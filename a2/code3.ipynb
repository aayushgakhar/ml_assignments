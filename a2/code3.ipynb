{
 "cells": [
  {
   "cell_type": "code",
   "execution_count": 1,
   "metadata": {},
   "outputs": [],
   "source": [
    "import pandas as pd\n",
    "import numpy as np\n",
    "import seaborn as sns\n",
    "import matplotlib.pyplot as plt\n",
    "import seaborn as sns\n",
    "\n",
    "\n",
    "from sklearn import preprocessing\n",
    "from sklearn import metrics\n",
    "\n",
    "from sklearn.model_selection import cross_val_score\n",
    "from sklearn.tree import DecisionTreeClassifier\n",
    "\n",
    "from sklearn.model_selection import train_test_split\n"
   ]
  },
  {
   "cell_type": "code",
   "execution_count": 9,
   "metadata": {},
   "outputs": [
    {
     "data": {
      "text/html": [
       "<div>\n",
       "<style scoped>\n",
       "    .dataframe tbody tr th:only-of-type {\n",
       "        vertical-align: middle;\n",
       "    }\n",
       "\n",
       "    .dataframe tbody tr th {\n",
       "        vertical-align: top;\n",
       "    }\n",
       "\n",
       "    .dataframe thead th {\n",
       "        text-align: right;\n",
       "    }\n",
       "</style>\n",
       "<table border=\"1\" class=\"dataframe\">\n",
       "  <thead>\n",
       "    <tr style=\"text-align: right;\">\n",
       "      <th></th>\n",
       "      <th>address</th>\n",
       "      <th>year</th>\n",
       "      <th>day</th>\n",
       "      <th>length</th>\n",
       "      <th>weight</th>\n",
       "      <th>count</th>\n",
       "      <th>looped</th>\n",
       "      <th>neighbors</th>\n",
       "      <th>income</th>\n",
       "      <th>label</th>\n",
       "    </tr>\n",
       "  </thead>\n",
       "  <tbody>\n",
       "    <tr>\n",
       "      <th>2648063</th>\n",
       "      <td>1Lbvw5MVZhvKMp33MfK1VnysxUztJmJP7u</td>\n",
       "      <td>2018</td>\n",
       "      <td>62</td>\n",
       "      <td>144</td>\n",
       "      <td>9.841741e-02</td>\n",
       "      <td>4639</td>\n",
       "      <td>0</td>\n",
       "      <td>2</td>\n",
       "      <td>4.277130e+07</td>\n",
       "      <td>white</td>\n",
       "    </tr>\n",
       "    <tr>\n",
       "      <th>456738</th>\n",
       "      <td>186eCZsMQobm92K2zcisRVA8gCxPuTujDg</td>\n",
       "      <td>2012</td>\n",
       "      <td>61</td>\n",
       "      <td>40</td>\n",
       "      <td>4.768372e-07</td>\n",
       "      <td>1</td>\n",
       "      <td>0</td>\n",
       "      <td>2</td>\n",
       "      <td>5.280078e+10</td>\n",
       "      <td>white</td>\n",
       "    </tr>\n",
       "    <tr>\n",
       "      <th>1383514</th>\n",
       "      <td>1CEQGvg5Z6dydSVMJTVu1wdzZmapDHT6BQ</td>\n",
       "      <td>2014</td>\n",
       "      <td>257</td>\n",
       "      <td>144</td>\n",
       "      <td>2.580301e-01</td>\n",
       "      <td>1281</td>\n",
       "      <td>0</td>\n",
       "      <td>1</td>\n",
       "      <td>9.994000e+08</td>\n",
       "      <td>white</td>\n",
       "    </tr>\n",
       "    <tr>\n",
       "      <th>235094</th>\n",
       "      <td>1C6VxEJ3HNCFo3X3ti4w9wXkQA3mLhVvtB</td>\n",
       "      <td>2011</td>\n",
       "      <td>204</td>\n",
       "      <td>16</td>\n",
       "      <td>1.000000e+00</td>\n",
       "      <td>1</td>\n",
       "      <td>0</td>\n",
       "      <td>2</td>\n",
       "      <td>4.480000e+08</td>\n",
       "      <td>white</td>\n",
       "    </tr>\n",
       "    <tr>\n",
       "      <th>2287097</th>\n",
       "      <td>1BU27Ud9qyUnegJRgvtSpRsDZqiRMCn8dZ</td>\n",
       "      <td>2017</td>\n",
       "      <td>66</td>\n",
       "      <td>0</td>\n",
       "      <td>1.000000e+00</td>\n",
       "      <td>1</td>\n",
       "      <td>0</td>\n",
       "      <td>1</td>\n",
       "      <td>7.902508e+07</td>\n",
       "      <td>white</td>\n",
       "    </tr>\n",
       "  </tbody>\n",
       "</table>\n",
       "</div>"
      ],
      "text/plain": [
       "                                    address  year  day  length        weight  \\\n",
       "2648063  1Lbvw5MVZhvKMp33MfK1VnysxUztJmJP7u  2018   62     144  9.841741e-02   \n",
       "456738   186eCZsMQobm92K2zcisRVA8gCxPuTujDg  2012   61      40  4.768372e-07   \n",
       "1383514  1CEQGvg5Z6dydSVMJTVu1wdzZmapDHT6BQ  2014  257     144  2.580301e-01   \n",
       "235094   1C6VxEJ3HNCFo3X3ti4w9wXkQA3mLhVvtB  2011  204      16  1.000000e+00   \n",
       "2287097  1BU27Ud9qyUnegJRgvtSpRsDZqiRMCn8dZ  2017   66       0  1.000000e+00   \n",
       "\n",
       "         count  looped  neighbors        income  label  \n",
       "2648063   4639       0          2  4.277130e+07  white  \n",
       "456738       1       0          2  5.280078e+10  white  \n",
       "1383514   1281       0          1  9.994000e+08  white  \n",
       "235094       1       0          2  4.480000e+08  white  \n",
       "2287097      1       0          1  7.902508e+07  white  "
      ]
     },
     "execution_count": 9,
     "metadata": {},
     "output_type": "execute_result"
    }
   ],
   "source": [
    "df = pd.read_csv('../../data/BitcoinHeistData.csv')\n",
    "df = df.sample(frac=1)\n",
    "df.head()\n"
   ]
  },
  {
   "cell_type": "code",
   "execution_count": 3,
   "metadata": {},
   "outputs": [
    {
     "data": {
      "text/plain": [
       "address      0\n",
       "year         0\n",
       "day          0\n",
       "length       0\n",
       "weight       0\n",
       "count        0\n",
       "looped       0\n",
       "neighbors    0\n",
       "income       0\n",
       "label        0\n",
       "dtype: int64"
      ]
     },
     "execution_count": 3,
     "metadata": {},
     "output_type": "execute_result"
    }
   ],
   "source": [
    "df.isnull().sum()\n"
   ]
  },
  {
   "cell_type": "code",
   "execution_count": 5,
   "metadata": {},
   "outputs": [],
   "source": [
    "def split(df):\n",
    "    df = df.drop(['address'], axis=1)\n",
    "    X = df.drop('label', axis=1)\n",
    "    y = df['label']\n",
    "    X_train, X_, y_train, y_ = train_test_split(X, y, test_size=0.3)\n",
    "    X_val, X_test, y_val, y_test = train_test_split(X_, y_, test_size=0.5)\n",
    "    return X_train, X_val, X_test, y_train, y_val, y_test\n",
    "\n",
    "X_train, X_val, X_test, y_train, y_val, y_test = split(df)"
   ]
  },
  {
   "cell_type": "code",
   "execution_count": null,
   "metadata": {},
   "outputs": [],
   "source": []
  },
  {
   "cell_type": "code",
   "execution_count": 8,
   "metadata": {},
   "outputs": [
    {
     "name": "stdout",
     "output_type": "stream",
     "text": [
      "gini, max-depth:4, score:0.9857921623752871\n",
      "gini, max-depth:8, score:0.9863612987280146\n",
      "gini, max-depth:10, score:0.9868892926937978\n",
      "gini, max-depth:15, score:0.9879247094318923\n",
      "gini, max-depth:20, score:0.9866195814904972\n",
      "entropy, max-depth:4, score:0.9857921623752871\n",
      "entropy, max-depth:8, score:0.986091587524714\n",
      "entropy, max-depth:10, score:0.9872435743591502\n",
      "entropy, max-depth:15, score:0.9880847076033417\n",
      "entropy, max-depth:20, score:0.986285871018617\n"
     ]
    }
   ],
   "source": [
    "def dt():\n",
    "    for d in [4, 8, 10, 15, 20]:\n",
    "        clf = DecisionTreeClassifier(criterion='gini', max_depth=d)\n",
    "        clf.fit(X_train, y_train)\n",
    "        print(f'gini, max-depth:{d}, score:{clf.score(X_test, y_test)}')\n",
    "\n",
    "    for d in [4, 8, 10, 15, 20]:\n",
    "        clf = DecisionTreeClassifier(criterion='entropy', max_depth=d)\n",
    "        clf.fit(X_train, y_train)\n",
    "        print(f'entropy, max-depth:{d}, score:{clf.score(X_test, y_test)}')\n",
    "\n",
    "\n",
    "dt()"
   ]
  }
 ],
 "metadata": {
  "kernelspec": {
   "display_name": "Python 3.6.9 ('e': venv)",
   "language": "python",
   "name": "python3"
  },
  "language_info": {
   "codemirror_mode": {
    "name": "ipython",
    "version": 3
   },
   "file_extension": ".py",
   "mimetype": "text/x-python",
   "name": "python",
   "nbconvert_exporter": "python",
   "pygments_lexer": "ipython3",
   "version": "3.6.9"
  },
  "orig_nbformat": 4,
  "vscode": {
   "interpreter": {
    "hash": "645d2c57b189bcd028f48852f28100769376758275efce6b8cf787c986ddb0e0"
   }
  }
 },
 "nbformat": 4,
 "nbformat_minor": 2
}
