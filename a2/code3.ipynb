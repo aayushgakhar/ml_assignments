{
 "cells": [
  {
   "cell_type": "markdown",
   "metadata": {},
   "source": [
    "#### Importing libraries"
   ]
  },
  {
   "cell_type": "code",
   "execution_count": 38,
   "metadata": {},
   "outputs": [],
   "source": [
    "import pandas as pd\n",
    "import numpy as np\n",
    "import seaborn as sns\n",
    "import matplotlib.pyplot as plt\n",
    "import seaborn as sns\n",
    "\n",
    "\n",
    "\n",
    "from sklearn import preprocessing\n",
    "from sklearn import metrics\n",
    "\n",
    "from sklearn.model_selection import cross_val_score\n",
    "from sklearn.tree import DecisionTreeClassifier\n",
    "from sklearn.ensemble import AdaBoostClassifier\n",
    "\n",
    "from sklearn.model_selection import train_test_split\n",
    "\n",
    "from collections import Counter"
   ]
  },
  {
   "cell_type": "code",
   "execution_count": 3,
   "metadata": {},
   "outputs": [
    {
     "data": {
      "text/html": [
       "<div>\n",
       "<style scoped>\n",
       "    .dataframe tbody tr th:only-of-type {\n",
       "        vertical-align: middle;\n",
       "    }\n",
       "\n",
       "    .dataframe tbody tr th {\n",
       "        vertical-align: top;\n",
       "    }\n",
       "\n",
       "    .dataframe thead th {\n",
       "        text-align: right;\n",
       "    }\n",
       "</style>\n",
       "<table border=\"1\" class=\"dataframe\">\n",
       "  <thead>\n",
       "    <tr style=\"text-align: right;\">\n",
       "      <th></th>\n",
       "      <th>address</th>\n",
       "      <th>year</th>\n",
       "      <th>day</th>\n",
       "      <th>length</th>\n",
       "      <th>weight</th>\n",
       "      <th>count</th>\n",
       "      <th>looped</th>\n",
       "      <th>neighbors</th>\n",
       "      <th>income</th>\n",
       "      <th>label</th>\n",
       "    </tr>\n",
       "  </thead>\n",
       "  <tbody>\n",
       "    <tr>\n",
       "      <th>2862349</th>\n",
       "      <td>38X6c1A7GzCs9kkHPVTDAEymC8wAJMW7sF</td>\n",
       "      <td>2018</td>\n",
       "      <td>276</td>\n",
       "      <td>18</td>\n",
       "      <td>0.031250</td>\n",
       "      <td>1</td>\n",
       "      <td>0</td>\n",
       "      <td>2</td>\n",
       "      <td>903400991.0</td>\n",
       "      <td>white</td>\n",
       "    </tr>\n",
       "    <tr>\n",
       "      <th>2747075</th>\n",
       "      <td>3Pk7GfW2jzsHWtjrXAfA5qbzEu2SpRXtTd</td>\n",
       "      <td>2018</td>\n",
       "      <td>161</td>\n",
       "      <td>142</td>\n",
       "      <td>0.123702</td>\n",
       "      <td>5486</td>\n",
       "      <td>0</td>\n",
       "      <td>2</td>\n",
       "      <td>50048836.0</td>\n",
       "      <td>white</td>\n",
       "    </tr>\n",
       "    <tr>\n",
       "      <th>2800251</th>\n",
       "      <td>1MURTYfh8HXjCMrLRGuvG7qB55A9Jrx4yT</td>\n",
       "      <td>2018</td>\n",
       "      <td>214</td>\n",
       "      <td>0</td>\n",
       "      <td>1.000000</td>\n",
       "      <td>1</td>\n",
       "      <td>0</td>\n",
       "      <td>1</td>\n",
       "      <td>30745186.0</td>\n",
       "      <td>white</td>\n",
       "    </tr>\n",
       "    <tr>\n",
       "      <th>1556079</th>\n",
       "      <td>1FYkBsCwkqRXfdRVHHQfmfcK4NPB4qBTfA</td>\n",
       "      <td>2015</td>\n",
       "      <td>65</td>\n",
       "      <td>144</td>\n",
       "      <td>0.051402</td>\n",
       "      <td>3140</td>\n",
       "      <td>2855</td>\n",
       "      <td>2</td>\n",
       "      <td>289883354.0</td>\n",
       "      <td>white</td>\n",
       "    </tr>\n",
       "    <tr>\n",
       "      <th>878562</th>\n",
       "      <td>18iijfHK8RaBgDgg9MSGEosB428SzXF4GL</td>\n",
       "      <td>2013</td>\n",
       "      <td>117</td>\n",
       "      <td>8</td>\n",
       "      <td>0.250000</td>\n",
       "      <td>1</td>\n",
       "      <td>0</td>\n",
       "      <td>2</td>\n",
       "      <td>87543216.0</td>\n",
       "      <td>white</td>\n",
       "    </tr>\n",
       "  </tbody>\n",
       "</table>\n",
       "</div>"
      ],
      "text/plain": [
       "                                    address  year  day  length    weight  \\\n",
       "2862349  38X6c1A7GzCs9kkHPVTDAEymC8wAJMW7sF  2018  276      18  0.031250   \n",
       "2747075  3Pk7GfW2jzsHWtjrXAfA5qbzEu2SpRXtTd  2018  161     142  0.123702   \n",
       "2800251  1MURTYfh8HXjCMrLRGuvG7qB55A9Jrx4yT  2018  214       0  1.000000   \n",
       "1556079  1FYkBsCwkqRXfdRVHHQfmfcK4NPB4qBTfA  2015   65     144  0.051402   \n",
       "878562   18iijfHK8RaBgDgg9MSGEosB428SzXF4GL  2013  117       8  0.250000   \n",
       "\n",
       "         count  looped  neighbors       income  label  \n",
       "2862349      1       0          2  903400991.0  white  \n",
       "2747075   5486       0          2   50048836.0  white  \n",
       "2800251      1       0          1   30745186.0  white  \n",
       "1556079   3140    2855          2  289883354.0  white  \n",
       "878562       1       0          2   87543216.0  white  "
      ]
     },
     "execution_count": 3,
     "metadata": {},
     "output_type": "execute_result"
    }
   ],
   "source": [
    "df = pd.read_csv('../data/BitcoinHeistData.csv')\n",
    "df = df.sample(frac=1)\n",
    "df.head()\n"
   ]
  },
  {
   "cell_type": "code",
   "execution_count": 4,
   "metadata": {},
   "outputs": [
    {
     "data": {
      "text/plain": [
       "address      0\n",
       "year         0\n",
       "day          0\n",
       "length       0\n",
       "weight       0\n",
       "count        0\n",
       "looped       0\n",
       "neighbors    0\n",
       "income       0\n",
       "label        0\n",
       "dtype: int64"
      ]
     },
     "execution_count": 4,
     "metadata": {},
     "output_type": "execute_result"
    }
   ],
   "source": [
    "df.isnull().sum()\n"
   ]
  },
  {
   "cell_type": "code",
   "execution_count": 7,
   "metadata": {},
   "outputs": [],
   "source": [
    "def split(df):\n",
    "    # df = df.drop(['address'], axis=1)\n",
    "    le = preprocessing.LabelEncoder()\n",
    "    le.fit(df.address)\n",
    "    X = df.drop('label', axis=1)\n",
    "    X.address = le.transform(X.address)\n",
    "    y = df['label']\n",
    "    X_train, X_, y_train, y_ = train_test_split(X, y, test_size=0.3)\n",
    "    X_val, X_test, y_val, y_test = train_test_split(X_, y_, test_size=0.5)\n",
    "    return X_train, X_val, X_test, y_train, y_val, y_test\n",
    "\n",
    "X_train, X_val, X_test, y_train, y_val, y_test = split(df)"
   ]
  },
  {
   "cell_type": "markdown",
   "metadata": {},
   "source": [
    "#### A. Decision tree"
   ]
  },
  {
   "cell_type": "code",
   "execution_count": 8,
   "metadata": {},
   "outputs": [
    {
     "name": "stdout",
     "output_type": "stream",
     "text": [
      "gini, max-depth:4, score:0.9858744471491755\n",
      "gini, max-depth:8, score:0.9866172958023337\n",
      "gini, max-depth:10, score:0.9869578633387047\n",
      "gini, max-depth:15, score:0.9885144169780917\n",
      "gini, max-depth:20, score:0.9875475708849042\n",
      "entropy, max-depth:4, score:0.985824162009577\n",
      "entropy, max-depth:8, score:0.9861990148684016\n",
      "entropy, max-depth:10, score:0.9875887132718483\n",
      "entropy, max-depth:15, score:0.9888892698369162\n",
      "entropy, max-depth:20, score:0.9876549982285917\n"
     ]
    }
   ],
   "source": [
    "def dt():\n",
    "    for d in [4, 8, 10, 15, 20]: #15 : 0.9885\n",
    "        clf = DecisionTreeClassifier(criterion='gini', max_depth=d)\n",
    "        clf.fit(X_train, y_train)\n",
    "        print(f'gini, max-depth:{d}, score:{clf.score(X_test, y_test)}')\n",
    "\n",
    "    for d in [4, 8, 10, 15, 20]: #15 : 0.9888\n",
    "        clf = DecisionTreeClassifier(criterion='entropy', max_depth=d)\n",
    "        clf.fit(X_train, y_train)\n",
    "        print(f'entropy, max-depth:{d}, score:{clf.score(X_test, y_test)}')\n",
    "\n",
    "\n",
    "dt()"
   ]
  },
  {
   "cell_type": "markdown",
   "metadata": {},
   "source": [
    "#### B. Ensembling"
   ]
  },
  {
   "cell_type": "code",
   "execution_count": 36,
   "metadata": {},
   "outputs": [],
   "source": [
    "def maxc(row):\n",
    "    c = Counter(row)\n",
    "    return c.most_common(1)[0][0]\n",
    "def ensemble(X_train,y_train, n=100):\n",
    "    trees = []\n",
    "    print('creating trees...')\n",
    "    for i in range(n):\n",
    "        X_, X__, y_, y__ = train_test_split(X_train, y_train, test_size=0.5)\n",
    "        tree = DecisionTreeClassifier(criterion='entropy', max_depth=3)\n",
    "        tree.fit(X_, y_)\n",
    "        trees.append(tree)\n",
    "    return trees\n",
    "\n",
    "def ensemble_predict(trees, X_test, y_test):\n",
    "    y_pred = []\n",
    "    for tree in trees:\n",
    "        y_pred.append(tree.predict(X_test))\n",
    "    y_pred = np.array(y_pred)\n",
    "    y_pred = np.transpose(y_pred)\n",
    "    \n",
    "    y_pred = np.apply_along_axis(lambda x: Counter(x).most_common(1)[0][0], 1, y_pred)\n",
    "    print(metrics.accuracy_score(y_test, y_pred))\n",
    "    return y_pred\n"
   ]
  },
  {
   "cell_type": "code",
   "execution_count": 34,
   "metadata": {},
   "outputs": [
    {
     "name": "stdout",
     "output_type": "stream",
     "text": [
      "creating trees...\n"
     ]
    }
   ],
   "source": [
    "trees = ensemble(X_train,y_train, n=10)"
   ]
  },
  {
   "cell_type": "code",
   "execution_count": 37,
   "metadata": {},
   "outputs": [
    {
     "name": "stdout",
     "output_type": "stream",
     "text": [
      "0.985824162009577\n"
     ]
    }
   ],
   "source": [
    "yp = ensemble_predict(trees, X_test, y_test)"
   ]
  },
  {
   "cell_type": "markdown",
   "metadata": {},
   "source": [
    "#### C. Adaboost"
   ]
  },
  {
   "cell_type": "code",
   "execution_count": 42,
   "metadata": {},
   "outputs": [
    {
     "name": "stdout",
     "output_type": "stream",
     "text": [
      "4 : 0.9480097370315768\n",
      "8 : 0.7498177163689558\n",
      "10 : 0.8332887624141438\n",
      "15 : 0.6564907829624804\n",
      "20 : 0.7646198329161953\n"
     ]
    }
   ],
   "source": [
    "ada_arr = []\n",
    "for i in [4, 8, 10, 15, 20]:\n",
    "    clf = AdaBoostClassifier(base_estimator=DecisionTreeClassifier(criterion='entropy', max_depth=3), n_estimators=i)\n",
    "    clf.fit(X_train, y_train)\n",
    "    print(i,':',clf.score(X_test, y_test))\n",
    "    ada_arr.append(clf)\n"
   ]
  },
  {
   "cell_type": "code",
   "execution_count": 41,
   "metadata": {},
   "outputs": [
    {
     "name": "stdout",
     "output_type": "stream",
     "text": [
      "AdaBoostClassifier(base_estimator=DecisionTreeClassifier(criterion='entropy',\n",
      "                                                         max_depth=3),\n",
      "                   n_estimators=20)\n"
     ]
    }
   ],
   "source": [
    "print(clf)"
   ]
  }
 ],
 "metadata": {
  "kernelspec": {
   "display_name": "Python 3.6.9 ('e': venv)",
   "language": "python",
   "name": "python3"
  },
  "language_info": {
   "codemirror_mode": {
    "name": "ipython",
    "version": 3
   },
   "file_extension": ".py",
   "mimetype": "text/x-python",
   "name": "python",
   "nbconvert_exporter": "python",
   "pygments_lexer": "ipython3",
   "version": "3.6.9"
  },
  "orig_nbformat": 4,
  "vscode": {
   "interpreter": {
    "hash": "645d2c57b189bcd028f48852f28100769376758275efce6b8cf787c986ddb0e0"
   }
  }
 },
 "nbformat": 4,
 "nbformat_minor": 2
}
