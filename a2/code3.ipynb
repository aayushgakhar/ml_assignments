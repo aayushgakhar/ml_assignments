{
 "cells": [
  {
   "cell_type": "markdown",
   "metadata": {},
   "source": [
    "#### Importing libraries"
   ]
  },
  {
   "cell_type": "code",
   "execution_count": 3,
   "metadata": {},
   "outputs": [],
   "source": [
    "import pandas as pd\n",
    "import numpy as np\n",
    "import seaborn as sns\n",
    "import matplotlib.pyplot as plt\n",
    "import seaborn as sns\n",
    "\n",
    "\n",
    "\n",
    "from sklearn import preprocessing\n",
    "from sklearn import metrics\n",
    "\n",
    "from sklearn.model_selection import cross_val_score\n",
    "from sklearn.tree import DecisionTreeClassifier\n",
    "from sklearn.ensemble import AdaBoostClassifier\n",
    "\n",
    "from sklearn.model_selection import train_test_split\n",
    "\n",
    "from collections import Counter"
   ]
  },
  {
   "cell_type": "code",
   "execution_count": 4,
   "metadata": {},
   "outputs": [
    {
     "data": {
      "text/html": [
       "<div>\n",
       "<style scoped>\n",
       "    .dataframe tbody tr th:only-of-type {\n",
       "        vertical-align: middle;\n",
       "    }\n",
       "\n",
       "    .dataframe tbody tr th {\n",
       "        vertical-align: top;\n",
       "    }\n",
       "\n",
       "    .dataframe thead th {\n",
       "        text-align: right;\n",
       "    }\n",
       "</style>\n",
       "<table border=\"1\" class=\"dataframe\">\n",
       "  <thead>\n",
       "    <tr style=\"text-align: right;\">\n",
       "      <th></th>\n",
       "      <th>address</th>\n",
       "      <th>year</th>\n",
       "      <th>day</th>\n",
       "      <th>length</th>\n",
       "      <th>weight</th>\n",
       "      <th>count</th>\n",
       "      <th>looped</th>\n",
       "      <th>neighbors</th>\n",
       "      <th>income</th>\n",
       "      <th>label</th>\n",
       "    </tr>\n",
       "  </thead>\n",
       "  <tbody>\n",
       "    <tr>\n",
       "      <th>843739</th>\n",
       "      <td>1FgBNGghSWp4fNuAwTbZjKwQJBa5pXKvjy</td>\n",
       "      <td>2013</td>\n",
       "      <td>83</td>\n",
       "      <td>0</td>\n",
       "      <td>0.083333</td>\n",
       "      <td>1</td>\n",
       "      <td>0</td>\n",
       "      <td>1</td>\n",
       "      <td>5.008388e+07</td>\n",
       "      <td>white</td>\n",
       "    </tr>\n",
       "    <tr>\n",
       "      <th>1539050</th>\n",
       "      <td>1845URxXJU6SbDYKEPVr5kDkGZrhfmAvGC</td>\n",
       "      <td>2015</td>\n",
       "      <td>48</td>\n",
       "      <td>144</td>\n",
       "      <td>0.003736</td>\n",
       "      <td>2535</td>\n",
       "      <td>2411</td>\n",
       "      <td>2</td>\n",
       "      <td>5.121226e+07</td>\n",
       "      <td>white</td>\n",
       "    </tr>\n",
       "    <tr>\n",
       "      <th>462746</th>\n",
       "      <td>1Bx7Hf9mpzeiwpSk8XjsJPEuCwHiA5kq3E</td>\n",
       "      <td>2012</td>\n",
       "      <td>67</td>\n",
       "      <td>0</td>\n",
       "      <td>1.000000</td>\n",
       "      <td>1</td>\n",
       "      <td>0</td>\n",
       "      <td>1</td>\n",
       "      <td>3.970000e+08</td>\n",
       "      <td>white</td>\n",
       "    </tr>\n",
       "    <tr>\n",
       "      <th>91109</th>\n",
       "      <td>1LP8gazyPPWxmejnMmmeV7K8hpmYmMskSq</td>\n",
       "      <td>2011</td>\n",
       "      <td>60</td>\n",
       "      <td>0</td>\n",
       "      <td>0.500000</td>\n",
       "      <td>1</td>\n",
       "      <td>0</td>\n",
       "      <td>1</td>\n",
       "      <td>1.000000e+09</td>\n",
       "      <td>white</td>\n",
       "    </tr>\n",
       "    <tr>\n",
       "      <th>2526694</th>\n",
       "      <td>17No8RHp4kaeCxQJJwKF3C13UL5KPFFggN</td>\n",
       "      <td>2017</td>\n",
       "      <td>305</td>\n",
       "      <td>4</td>\n",
       "      <td>1.000000</td>\n",
       "      <td>1</td>\n",
       "      <td>0</td>\n",
       "      <td>2</td>\n",
       "      <td>6.037562e+07</td>\n",
       "      <td>white</td>\n",
       "    </tr>\n",
       "  </tbody>\n",
       "</table>\n",
       "</div>"
      ],
      "text/plain": [
       "                                    address  year  day  length    weight  \\\n",
       "843739   1FgBNGghSWp4fNuAwTbZjKwQJBa5pXKvjy  2013   83       0  0.083333   \n",
       "1539050  1845URxXJU6SbDYKEPVr5kDkGZrhfmAvGC  2015   48     144  0.003736   \n",
       "462746   1Bx7Hf9mpzeiwpSk8XjsJPEuCwHiA5kq3E  2012   67       0  1.000000   \n",
       "91109    1LP8gazyPPWxmejnMmmeV7K8hpmYmMskSq  2011   60       0  0.500000   \n",
       "2526694  17No8RHp4kaeCxQJJwKF3C13UL5KPFFggN  2017  305       4  1.000000   \n",
       "\n",
       "         count  looped  neighbors        income  label  \n",
       "843739       1       0          1  5.008388e+07  white  \n",
       "1539050   2535    2411          2  5.121226e+07  white  \n",
       "462746       1       0          1  3.970000e+08  white  \n",
       "91109        1       0          1  1.000000e+09  white  \n",
       "2526694      1       0          2  6.037562e+07  white  "
      ]
     },
     "execution_count": 4,
     "metadata": {},
     "output_type": "execute_result"
    }
   ],
   "source": [
    "df = pd.read_csv('../data/BitcoinHeistData.csv')\n",
    "df = df.sample(frac=1)\n",
    "df.head()\n"
   ]
  },
  {
   "cell_type": "code",
   "execution_count": 5,
   "metadata": {},
   "outputs": [
    {
     "data": {
      "text/plain": [
       "address      0\n",
       "year         0\n",
       "day          0\n",
       "length       0\n",
       "weight       0\n",
       "count        0\n",
       "looped       0\n",
       "neighbors    0\n",
       "income       0\n",
       "label        0\n",
       "dtype: int64"
      ]
     },
     "execution_count": 5,
     "metadata": {},
     "output_type": "execute_result"
    }
   ],
   "source": [
    "df.isnull().sum().sum()\n"
   ]
  },
  {
   "cell_type": "code",
   "execution_count": 6,
   "metadata": {},
   "outputs": [],
   "source": [
    "def split(df):\n",
    "    # df = df.drop(['address'], axis=1)\n",
    "    le = preprocessing.LabelEncoder()\n",
    "    le.fit(df.address)\n",
    "    X = df.drop('label', axis=1)\n",
    "    X.address = le.transform(X.address)\n",
    "    y = df['label']\n",
    "    X_train, X_, y_train, y_ = train_test_split(X, y, test_size=0.3)\n",
    "    X_val, X_test, y_val, y_test = train_test_split(X_, y_, test_size=0.5)\n",
    "    return X_train, X_val, X_test, y_train, y_val, y_test\n",
    "\n",
    "X_train, X_val, X_test, y_train, y_val, y_test = split(df)"
   ]
  },
  {
   "cell_type": "markdown",
   "metadata": {},
   "source": [
    "#### A. Decision tree"
   ]
  },
  {
   "cell_type": "code",
   "execution_count": 7,
   "metadata": {},
   "outputs": [
    {
     "name": "stdout",
     "output_type": "stream",
     "text": [
      "gini, max-depth:4, score:0.9863087279002526\n",
      "gini, max-depth:8, score:0.9870538622415744\n",
      "gini, max-depth:10, score:0.987449286293871\n",
      "gini, max-depth:15, score:0.9885875589993257\n",
      "gini, max-depth:20, score:0.9879315664963829\n",
      "entropy, max-depth:4, score:0.9862515856961634\n",
      "entropy, max-depth:8, score:0.9866127244260066\n",
      "entropy, max-depth:10, score:0.9878789956686209\n",
      "entropy, max-depth:15, score:0.9891224100295997\n",
      "entropy, max-depth:20, score:0.988025279711089\n"
     ]
    }
   ],
   "source": [
    "def dt():\n",
    "    for d in [4, 8, 10, 15, 20]: #15 : 0.9885\n",
    "        clf = DecisionTreeClassifier(criterion='gini', max_depth=d)\n",
    "        clf.fit(X_train, y_train)\n",
    "        print(f'gini, max-depth:{d}, score:{clf.score(X_test, y_test)}')\n",
    "\n",
    "    for d in [4, 8, 10, 15, 20]: #15 : 0.9888\n",
    "        clf = DecisionTreeClassifier(criterion='entropy', max_depth=d)\n",
    "        clf.fit(X_train, y_train)\n",
    "        print(f'entropy, max-depth:{d}, score:{clf.score(X_test, y_test)}')\n",
    "\n",
    "\n",
    "dt()"
   ]
  },
  {
   "cell_type": "markdown",
   "metadata": {},
   "source": [
    "#### B. Ensembling"
   ]
  },
  {
   "cell_type": "code",
   "execution_count": 8,
   "metadata": {},
   "outputs": [],
   "source": [
    "def maxc(row):\n",
    "    c = Counter(row)\n",
    "    return c.most_common(1)[0][0]\n",
    "def ensemble(X_train,y_train, n=100):\n",
    "    trees = []\n",
    "    print('creating trees...')\n",
    "    for i in range(n):\n",
    "        X_, X__, y_, y__ = train_test_split(X_train, y_train, test_size=0.5)\n",
    "        tree = DecisionTreeClassifier(criterion='entropy', max_depth=3)\n",
    "        tree.fit(X_, y_)\n",
    "        trees.append(tree)\n",
    "    return trees\n",
    "\n",
    "def ensemble_predict(trees, X_test, y_test):\n",
    "    y_pred = []\n",
    "    for tree in trees:\n",
    "        y_pred.append(tree.predict(X_test))\n",
    "    y_pred = np.array(y_pred)\n",
    "    y_pred = np.transpose(y_pred)\n",
    "    \n",
    "    y_pred = np.apply_along_axis(lambda x: Counter(x).most_common(1)[0][0], 1, y_pred)\n",
    "    print(metrics.accuracy_score(y_test, y_pred))\n",
    "    return y_pred\n"
   ]
  },
  {
   "cell_type": "code",
   "execution_count": 9,
   "metadata": {},
   "outputs": [
    {
     "name": "stdout",
     "output_type": "stream",
     "text": [
      "creating trees...\n"
     ]
    }
   ],
   "source": [
    "trees = ensemble(X_train,y_train, n=100)"
   ]
  },
  {
   "cell_type": "code",
   "execution_count": 10,
   "metadata": {},
   "outputs": [
    {
     "name": "stdout",
     "output_type": "stream",
     "text": [
      "0.9862515856961634\n"
     ]
    }
   ],
   "source": [
    "yp = ensemble_predict(trees, X_test, y_test)"
   ]
  },
  {
   "cell_type": "markdown",
   "metadata": {},
   "source": [
    "#### C. Adaboost"
   ]
  },
  {
   "cell_type": "code",
   "execution_count": 11,
   "metadata": {},
   "outputs": [
    {
     "name": "stdout",
     "output_type": "stream",
     "text": [
      "4 : 0.9851704551947977\n",
      "8 : 0.9851773122592885\n",
      "10 : 0.9852298830870504\n",
      "15 : 0.9852755968503217\n",
      "20 : 0.9851475983131621\n"
     ]
    }
   ],
   "source": [
    "ada_arr = []\n",
    "for i in [4, 8, 10, 15, 20]:\n",
    "    clf = AdaBoostClassifier(base_estimator=DecisionTreeClassifier(criterion='entropy'), n_estimators=i)\n",
    "    clf.fit(X_train, y_train)\n",
    "    print(i,':',clf.score(X_test, y_test))\n",
    "    ada_arr.append(clf)\n"
   ]
  },
  {
   "cell_type": "code",
   "execution_count": 12,
   "metadata": {},
   "outputs": [
    {
     "name": "stdout",
     "output_type": "stream",
     "text": [
      "AdaBoostClassifier(base_estimator=DecisionTreeClassifier(criterion='entropy'),\n",
      "                   n_estimators=20)\n"
     ]
    }
   ],
   "source": [
    "print(clf)"
   ]
  }
 ],
 "metadata": {
  "kernelspec": {
   "display_name": "Python 3.8.0 ('.env': venv)",
   "language": "python",
   "name": "python3"
  },
  "language_info": {
   "codemirror_mode": {
    "name": "ipython",
    "version": 3
   },
   "file_extension": ".py",
   "mimetype": "text/x-python",
   "name": "python",
   "nbconvert_exporter": "python",
   "pygments_lexer": "ipython3",
   "version": "3.8.0"
  },
  "orig_nbformat": 4,
  "vscode": {
   "interpreter": {
    "hash": "05a5be781573ceb019f5b4a7807b8e5fd52cf2e9ebde3cedb8f146ac54c64ae5"
   }
  }
 },
 "nbformat": 4,
 "nbformat_minor": 2
}
