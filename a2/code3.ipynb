{
 "cells": [
  {
   "cell_type": "markdown",
   "metadata": {},
   "source": [
    "#### Importing libraries"
   ]
  },
  {
   "cell_type": "code",
   "execution_count": 1,
   "metadata": {},
   "outputs": [],
   "source": [
    "import pandas as pd\n",
    "import numpy as np\n",
    "import seaborn as sns\n",
    "import matplotlib.pyplot as plt\n",
    "import seaborn as sns\n",
    "\n",
    "\n",
    "\n",
    "from sklearn import preprocessing\n",
    "from sklearn import metrics\n",
    "\n",
    "from sklearn.model_selection import cross_val_score\n",
    "from sklearn.tree import DecisionTreeClassifier\n",
    "from sklearn.ensemble import AdaBoostClassifier\n",
    "\n",
    "from sklearn.model_selection import train_test_split\n",
    "\n",
    "from collections import Counter"
   ]
  },
  {
   "cell_type": "code",
   "execution_count": 2,
   "metadata": {},
   "outputs": [
    {
     "data": {
      "text/html": [
       "<div>\n",
       "<style scoped>\n",
       "    .dataframe tbody tr th:only-of-type {\n",
       "        vertical-align: middle;\n",
       "    }\n",
       "\n",
       "    .dataframe tbody tr th {\n",
       "        vertical-align: top;\n",
       "    }\n",
       "\n",
       "    .dataframe thead th {\n",
       "        text-align: right;\n",
       "    }\n",
       "</style>\n",
       "<table border=\"1\" class=\"dataframe\">\n",
       "  <thead>\n",
       "    <tr style=\"text-align: right;\">\n",
       "      <th></th>\n",
       "      <th>address</th>\n",
       "      <th>year</th>\n",
       "      <th>day</th>\n",
       "      <th>length</th>\n",
       "      <th>weight</th>\n",
       "      <th>count</th>\n",
       "      <th>looped</th>\n",
       "      <th>neighbors</th>\n",
       "      <th>income</th>\n",
       "      <th>label</th>\n",
       "    </tr>\n",
       "  </thead>\n",
       "  <tbody>\n",
       "    <tr>\n",
       "      <th>1005873</th>\n",
       "      <td>18WzmBQp8F7E1z8ZcjRvivgKniMgVjjin1</td>\n",
       "      <td>2013</td>\n",
       "      <td>245</td>\n",
       "      <td>20</td>\n",
       "      <td>0.008333</td>\n",
       "      <td>1</td>\n",
       "      <td>0</td>\n",
       "      <td>2</td>\n",
       "      <td>2.778529e+09</td>\n",
       "      <td>white</td>\n",
       "    </tr>\n",
       "    <tr>\n",
       "      <th>1185768</th>\n",
       "      <td>14a2bHQvm6xk137kLqkSVQDGQsTUzTxMy2</td>\n",
       "      <td>2014</td>\n",
       "      <td>60</td>\n",
       "      <td>30</td>\n",
       "      <td>0.000013</td>\n",
       "      <td>1</td>\n",
       "      <td>0</td>\n",
       "      <td>2</td>\n",
       "      <td>3.941910e+07</td>\n",
       "      <td>white</td>\n",
       "    </tr>\n",
       "    <tr>\n",
       "      <th>2816273</th>\n",
       "      <td>18EKhWapYi89mccCn6fjAEBKBScsk8kycw</td>\n",
       "      <td>2018</td>\n",
       "      <td>230</td>\n",
       "      <td>8</td>\n",
       "      <td>0.125000</td>\n",
       "      <td>1</td>\n",
       "      <td>0</td>\n",
       "      <td>2</td>\n",
       "      <td>3.613681e+07</td>\n",
       "      <td>white</td>\n",
       "    </tr>\n",
       "    <tr>\n",
       "      <th>2258204</th>\n",
       "      <td>13W2ZyuFKrZyV6by2REcsAfhnwiR9txTtr</td>\n",
       "      <td>2017</td>\n",
       "      <td>37</td>\n",
       "      <td>8</td>\n",
       "      <td>1.000000</td>\n",
       "      <td>1</td>\n",
       "      <td>0</td>\n",
       "      <td>2</td>\n",
       "      <td>2.598497e+08</td>\n",
       "      <td>white</td>\n",
       "    </tr>\n",
       "    <tr>\n",
       "      <th>2739242</th>\n",
       "      <td>3CCViqjqqvaLgB9L4t8kuznCLpimS4nuht</td>\n",
       "      <td>2018</td>\n",
       "      <td>153</td>\n",
       "      <td>0</td>\n",
       "      <td>1.000000</td>\n",
       "      <td>1</td>\n",
       "      <td>0</td>\n",
       "      <td>2</td>\n",
       "      <td>4.237049e+07</td>\n",
       "      <td>white</td>\n",
       "    </tr>\n",
       "  </tbody>\n",
       "</table>\n",
       "</div>"
      ],
      "text/plain": [
       "                                    address  year  day  length    weight  \\\n",
       "1005873  18WzmBQp8F7E1z8ZcjRvivgKniMgVjjin1  2013  245      20  0.008333   \n",
       "1185768  14a2bHQvm6xk137kLqkSVQDGQsTUzTxMy2  2014   60      30  0.000013   \n",
       "2816273  18EKhWapYi89mccCn6fjAEBKBScsk8kycw  2018  230       8  0.125000   \n",
       "2258204  13W2ZyuFKrZyV6by2REcsAfhnwiR9txTtr  2017   37       8  1.000000   \n",
       "2739242  3CCViqjqqvaLgB9L4t8kuznCLpimS4nuht  2018  153       0  1.000000   \n",
       "\n",
       "         count  looped  neighbors        income  label  \n",
       "1005873      1       0          2  2.778529e+09  white  \n",
       "1185768      1       0          2  3.941910e+07  white  \n",
       "2816273      1       0          2  3.613681e+07  white  \n",
       "2258204      1       0          2  2.598497e+08  white  \n",
       "2739242      1       0          2  4.237049e+07  white  "
      ]
     },
     "execution_count": 2,
     "metadata": {},
     "output_type": "execute_result"
    }
   ],
   "source": [
    "df = pd.read_csv('../data/BitcoinHeistData.csv')\n",
    "df = df.sample(frac=1)\n",
    "df.head()\n"
   ]
  },
  {
   "cell_type": "code",
   "execution_count": 3,
   "metadata": {},
   "outputs": [
    {
     "data": {
      "text/plain": [
       "0"
      ]
     },
     "execution_count": 3,
     "metadata": {},
     "output_type": "execute_result"
    }
   ],
   "source": [
    "df.isnull().sum().sum()\n"
   ]
  },
  {
   "cell_type": "code",
   "execution_count": 4,
   "metadata": {},
   "outputs": [],
   "source": [
    "def split(df):\n",
    "    # df = df.drop(['address'], axis=1)\n",
    "    le = preprocessing.LabelEncoder()\n",
    "    le.fit(df.address)\n",
    "    X = df.drop('label', axis=1)\n",
    "    X.address = le.transform(X.address)\n",
    "    y = df['label']\n",
    "    X_train, X_, y_train, y_ = train_test_split(X, y, test_size=0.3)\n",
    "    X_val, X_test, y_val, y_test = train_test_split(X_, y_, test_size=0.5)\n",
    "    return X_train, X_val, X_test, y_train, y_val, y_test\n",
    "\n",
    "X_train, X_val, X_test, y_train, y_val, y_test = split(df)"
   ]
  },
  {
   "cell_type": "markdown",
   "metadata": {},
   "source": [
    "#### A. Decision tree"
   ]
  },
  {
   "cell_type": "code",
   "execution_count": 5,
   "metadata": {},
   "outputs": [
    {
     "name": "stdout",
     "output_type": "stream",
     "text": [
      "gini, max-depth:4, score:0.9859590176112273\n",
      "gini, max-depth:8, score:0.9868138649844002\n",
      "gini, max-depth:10, score:0.9873510017028376\n",
      "gini, max-depth:15, score:0.9885121312899281\n",
      "gini, max-depth:20, score:0.9879361378727101\n",
      "entropy, max-depth:4, score:0.9858881612781568\n",
      "entropy, max-depth:8, score:0.9862881567067805\n",
      "entropy, max-depth:10, score:0.98750642849796\n",
      "entropy, max-depth:15, score:0.9890218397504028\n",
      "entropy, max-depth:20, score:0.9879384235608736\n"
     ]
    }
   ],
   "source": [
    "def dt():\n",
    "    for d in [4, 8, 10, 15, 20]: #15 : 0.9885\n",
    "        clf = DecisionTreeClassifier(criterion='gini', max_depth=d)\n",
    "        clf.fit(X_train, y_train)\n",
    "        print(f'gini, max-depth:{d}, score:{clf.score(X_test, y_test)}')\n",
    "\n",
    "    for d in [4, 8, 10, 15, 20]: #15 : 0.9888\n",
    "        clf = DecisionTreeClassifier(criterion='entropy', max_depth=d)\n",
    "        clf.fit(X_train, y_train)\n",
    "        print(f'entropy, max-depth:{d}, score:{clf.score(X_test, y_test)}')\n",
    "\n",
    "\n",
    "dt()"
   ]
  },
  {
   "cell_type": "markdown",
   "metadata": {},
   "source": [
    "#### B. Ensembling"
   ]
  },
  {
   "cell_type": "code",
   "execution_count": 12,
   "metadata": {},
   "outputs": [],
   "source": [
    "def maxc(row):\n",
    "    c = Counter(row)\n",
    "    return c.most_common(1)[0][0]\n",
    "def ensemble(X_train,y_train, n=100):\n",
    "    trees = []\n",
    "    print('creating trees...')\n",
    "    for i in range(n):\n",
    "        X_, X__, y_, y__ = train_test_split(X_train, y_train, test_size=0.5)\n",
    "        tree = DecisionTreeClassifier(criterion='entropy', max_depth=3)\n",
    "        tree.fit(X_, y_)\n",
    "        trees.append(tree)\n",
    "    return trees\n",
    "\n",
    "def ensemble_predict(trees, X_test, y_test):\n",
    "    y_pred = []\n",
    "    for tree in trees:\n",
    "        y_pred.append(tree.predict(X_test))\n",
    "    y_pred = np.array(y_pred)\n",
    "    y_pred = np.transpose(y_pred)\n",
    "    \n",
    "    y_pred = np.apply_along_axis(lambda x: Counter(x).most_common(1)[0][0], 1, y_pred)\n",
    "    score = metrics.accuracy_score(y_test, y_pred)\n",
    "    print(score)\n",
    "    \n",
    "    return y_pred,score\n"
   ]
  },
  {
   "cell_type": "code",
   "execution_count": 7,
   "metadata": {},
   "outputs": [
    {
     "name": "stdout",
     "output_type": "stream",
     "text": [
      "creating trees...\n"
     ]
    }
   ],
   "source": [
    "trees = ensemble(X_train,y_train, n=100)"
   ]
  },
  {
   "cell_type": "code",
   "execution_count": 13,
   "metadata": {},
   "outputs": [
    {
     "name": "stdout",
     "output_type": "stream",
     "text": [
      "0.9858881612781568\n"
     ]
    }
   ],
   "source": [
    "yp, score = ensemble_predict(trees, X_test, y_test)"
   ]
  },
  {
   "cell_type": "markdown",
   "metadata": {},
   "source": [
    "#### C. Adaboost"
   ]
  },
  {
   "cell_type": "code",
   "execution_count": 14,
   "metadata": {},
   "outputs": [
    {
     "name": "stdout",
     "output_type": "stream",
     "text": [
      "4 : 0.985053885098456\n",
      "8 : 0.9850630278511102\n",
      "10 : 0.9851041702380544\n",
      "15 : 0.9850241711523297\n",
      "20 : 0.9851178843670358\n"
     ]
    }
   ],
   "source": [
    "ada_arr = []\n",
    "for i in [4, 8, 10, 15, 20]:\n",
    "    clf = AdaBoostClassifier(\n",
    "        base_estimator=DecisionTreeClassifier(criterion='entropy'), \n",
    "        n_estimators=i\n",
    "        )\n",
    "    clf.fit(X_train, y_train)\n",
    "    print(i,':',clf.score(X_test, y_test))\n",
    "    ada_arr.append(clf)\n",
    "    \n",
    "\n"
   ]
  },
  {
   "cell_type": "code",
   "execution_count": 10,
   "metadata": {},
   "outputs": [
    {
     "name": "stdout",
     "output_type": "stream",
     "text": [
      "AdaBoostClassifier(base_estimator=DecisionTreeClassifier(criterion='entropy'),\n",
      "                   n_estimators=20)\n"
     ]
    }
   ],
   "source": [
    "print(clf)\n"
   ]
  }
 ],
 "metadata": {
  "kernelspec": {
   "display_name": "Python 3.8.0 ('.env': venv)",
   "language": "python",
   "name": "python3"
  },
  "language_info": {
   "codemirror_mode": {
    "name": "ipython",
    "version": 3
   },
   "file_extension": ".py",
   "mimetype": "text/x-python",
   "name": "python",
   "nbconvert_exporter": "python",
   "pygments_lexer": "ipython3",
   "version": "3.8.0"
  },
  "orig_nbformat": 4,
  "vscode": {
   "interpreter": {
    "hash": "05a5be781573ceb019f5b4a7807b8e5fd52cf2e9ebde3cedb8f146ac54c64ae5"
   }
  }
 },
 "nbformat": 4,
 "nbformat_minor": 2
}
