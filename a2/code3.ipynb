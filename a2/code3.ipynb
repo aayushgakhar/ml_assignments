{
 "cells": [
  {
   "cell_type": "code",
   "execution_count": 1,
   "metadata": {},
   "outputs": [],
   "source": [
    "import pandas as pd\n",
    "import numpy as np\n",
    "import seaborn as sns\n",
    "import matplotlib.pyplot as plt\n",
    "import seaborn as sns\n",
    "\n",
    "\n",
    "from sklearn import preprocessing\n",
    "from sklearn import metrics\n",
    "\n",
    "from sklearn.model_selection import cross_val_score\n",
    "from sklearn.tree import DecisionTreeClassifier\n",
    "\n",
    "from sklearn.model_selection import train_test_split\n"
   ]
  },
  {
   "cell_type": "code",
   "execution_count": 2,
   "metadata": {},
   "outputs": [
    {
     "data": {
      "text/html": [
       "<div>\n",
       "<style scoped>\n",
       "    .dataframe tbody tr th:only-of-type {\n",
       "        vertical-align: middle;\n",
       "    }\n",
       "\n",
       "    .dataframe tbody tr th {\n",
       "        vertical-align: top;\n",
       "    }\n",
       "\n",
       "    .dataframe thead th {\n",
       "        text-align: right;\n",
       "    }\n",
       "</style>\n",
       "<table border=\"1\" class=\"dataframe\">\n",
       "  <thead>\n",
       "    <tr style=\"text-align: right;\">\n",
       "      <th></th>\n",
       "      <th>address</th>\n",
       "      <th>year</th>\n",
       "      <th>day</th>\n",
       "      <th>length</th>\n",
       "      <th>weight</th>\n",
       "      <th>count</th>\n",
       "      <th>looped</th>\n",
       "      <th>neighbors</th>\n",
       "      <th>income</th>\n",
       "      <th>label</th>\n",
       "    </tr>\n",
       "  </thead>\n",
       "  <tbody>\n",
       "    <tr>\n",
       "      <th>1036257</th>\n",
       "      <td>1Cfy2MxemRR685NG7SeGhhbantZovd6gMT</td>\n",
       "      <td>2013</td>\n",
       "      <td>275</td>\n",
       "      <td>16</td>\n",
       "      <td>0.375000</td>\n",
       "      <td>3</td>\n",
       "      <td>0</td>\n",
       "      <td>2</td>\n",
       "      <td>46646354.0</td>\n",
       "      <td>white</td>\n",
       "    </tr>\n",
       "    <tr>\n",
       "      <th>1500621</th>\n",
       "      <td>1APUSSu8DQykR73XBo6YMV1xPNrpdhKmy5</td>\n",
       "      <td>2015</td>\n",
       "      <td>9</td>\n",
       "      <td>144</td>\n",
       "      <td>0.000681</td>\n",
       "      <td>1858</td>\n",
       "      <td>1858</td>\n",
       "      <td>2</td>\n",
       "      <td>434362100.0</td>\n",
       "      <td>white</td>\n",
       "    </tr>\n",
       "    <tr>\n",
       "      <th>39794</th>\n",
       "      <td>1PwdtKH2uPTpLv56hFhw9Pj893txYKKmEg</td>\n",
       "      <td>2014</td>\n",
       "      <td>168</td>\n",
       "      <td>0</td>\n",
       "      <td>1.000000</td>\n",
       "      <td>1</td>\n",
       "      <td>0</td>\n",
       "      <td>1</td>\n",
       "      <td>50091448.0</td>\n",
       "      <td>paduaCryptoWall</td>\n",
       "    </tr>\n",
       "    <tr>\n",
       "      <th>2281436</th>\n",
       "      <td>39xcobSGMTZgwWpsR8NyNAV8XxpPyc2guQ</td>\n",
       "      <td>2017</td>\n",
       "      <td>60</td>\n",
       "      <td>2</td>\n",
       "      <td>1.666667</td>\n",
       "      <td>1</td>\n",
       "      <td>1</td>\n",
       "      <td>4</td>\n",
       "      <td>103119063.0</td>\n",
       "      <td>white</td>\n",
       "    </tr>\n",
       "    <tr>\n",
       "      <th>897919</th>\n",
       "      <td>1QJy8sSWTwrAueBZAP6zPsqVsLMPuoURZ</td>\n",
       "      <td>2013</td>\n",
       "      <td>137</td>\n",
       "      <td>0</td>\n",
       "      <td>0.500000</td>\n",
       "      <td>1</td>\n",
       "      <td>0</td>\n",
       "      <td>2</td>\n",
       "      <td>279780930.0</td>\n",
       "      <td>white</td>\n",
       "    </tr>\n",
       "  </tbody>\n",
       "</table>\n",
       "</div>"
      ],
      "text/plain": [
       "                                    address  year  day  length    weight  \\\n",
       "1036257  1Cfy2MxemRR685NG7SeGhhbantZovd6gMT  2013  275      16  0.375000   \n",
       "1500621  1APUSSu8DQykR73XBo6YMV1xPNrpdhKmy5  2015    9     144  0.000681   \n",
       "39794    1PwdtKH2uPTpLv56hFhw9Pj893txYKKmEg  2014  168       0  1.000000   \n",
       "2281436  39xcobSGMTZgwWpsR8NyNAV8XxpPyc2guQ  2017   60       2  1.666667   \n",
       "897919    1QJy8sSWTwrAueBZAP6zPsqVsLMPuoURZ  2013  137       0  0.500000   \n",
       "\n",
       "         count  looped  neighbors       income            label  \n",
       "1036257      3       0          2   46646354.0            white  \n",
       "1500621   1858    1858          2  434362100.0            white  \n",
       "39794        1       0          1   50091448.0  paduaCryptoWall  \n",
       "2281436      1       1          4  103119063.0            white  \n",
       "897919       1       0          2  279780930.0            white  "
      ]
     },
     "execution_count": 2,
     "metadata": {},
     "output_type": "execute_result"
    }
   ],
   "source": [
    "df = pd.read_csv('../../data/BitcoinHeistData.csv')\n",
    "df = df.sample(frac=1)\n",
    "df.head()\n"
   ]
  },
  {
   "cell_type": "code",
   "execution_count": 3,
   "metadata": {},
   "outputs": [
    {
     "data": {
      "text/plain": [
       "address      0\n",
       "year         0\n",
       "day          0\n",
       "length       0\n",
       "weight       0\n",
       "count        0\n",
       "looped       0\n",
       "neighbors    0\n",
       "income       0\n",
       "label        0\n",
       "dtype: int64"
      ]
     },
     "execution_count": 3,
     "metadata": {},
     "output_type": "execute_result"
    }
   ],
   "source": [
    "df.isnull().sum()\n"
   ]
  },
  {
   "cell_type": "code",
   "execution_count": 4,
   "metadata": {},
   "outputs": [],
   "source": [
    "def split(df):\n",
    "    df = df.drop(['address'], axis=1)\n",
    "    X = df.drop('label', axis=1)\n",
    "    y = df['label']\n",
    "    X_train, X_, y_train, y_ = train_test_split(X, y, test_size=0.3)\n",
    "    X_val, X_test, y_val, y_test = train_test_split(X_, y_, test_size=0.5)\n",
    "    return X_train, X_val, X_test, y_train, y_val, y_test\n",
    "\n",
    "X_train, X_val, X_test, y_train, y_val, y_test = split(df)"
   ]
  },
  {
   "cell_type": "code",
   "execution_count": null,
   "metadata": {},
   "outputs": [],
   "source": []
  },
  {
   "cell_type": "code",
   "execution_count": 5,
   "metadata": {},
   "outputs": [
    {
     "name": "stdout",
     "output_type": "stream",
     "text": [
      "gini, max-depth:4, score:0.98558873612873\n",
      "gini, max-depth:8, score:0.9862241574382007\n",
      "gini, max-depth:10, score:0.9864961543296648\n",
      "gini, max-depth:15, score:0.987915566679238\n",
      "gini, max-depth:20, score:0.9863292990937247\n",
      "entropy, max-depth:4, score:0.98558873612873\n",
      "entropy, max-depth:8, score:0.9858561616438669\n",
      "entropy, max-depth:10, score:0.9871567182089348\n",
      "entropy, max-depth:15, score:0.9878698529159666\n",
      "entropy, max-depth:20, score:0.9860070170626621\n"
     ]
    }
   ],
   "source": [
    "def dt():\n",
    "    for d in [4, 8, 10, 15, 20]: #15 : 0.9879\n",
    "        clf = DecisionTreeClassifier(criterion='gini', max_depth=d)\n",
    "        clf.fit(X_train, y_train)\n",
    "        print(f'gini, max-depth:{d}, score:{clf.score(X_test, y_test)}')\n",
    "\n",
    "    for d in [4, 8, 10, 15, 20]:\n",
    "        clf = DecisionTreeClassifier(criterion='entropy', max_depth=d)\n",
    "        clf.fit(X_train, y_train)\n",
    "        print(f'entropy, max-depth:{d}, score:{clf.score(X_test, y_test)}')\n",
    "\n",
    "\n",
    "dt()"
   ]
  }
 ],
 "metadata": {
  "kernelspec": {
   "display_name": "Python 3.6.9 ('e': venv)",
   "language": "python",
   "name": "python3"
  },
  "language_info": {
   "codemirror_mode": {
    "name": "ipython",
    "version": 3
   },
   "file_extension": ".py",
   "mimetype": "text/x-python",
   "name": "python",
   "nbconvert_exporter": "python",
   "pygments_lexer": "ipython3",
   "version": "3.6.9"
  },
  "orig_nbformat": 4,
  "vscode": {
   "interpreter": {
    "hash": "645d2c57b189bcd028f48852f28100769376758275efce6b8cf787c986ddb0e0"
   }
  }
 },
 "nbformat": 4,
 "nbformat_minor": 2
}
