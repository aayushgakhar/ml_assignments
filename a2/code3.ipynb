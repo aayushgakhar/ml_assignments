{
 "cells": [
  {
   "cell_type": "markdown",
   "metadata": {},
   "source": [
    "#### Importing libraries"
   ]
  },
  {
   "cell_type": "code",
   "execution_count": 1,
   "metadata": {},
   "outputs": [],
   "source": [
    "import pandas as pd\n",
    "import numpy as np\n",
    "import seaborn as sns\n",
    "import matplotlib.pyplot as plt\n",
    "import seaborn as sns\n",
    "\n",
    "\n",
    "\n",
    "from sklearn import preprocessing\n",
    "from sklearn import metrics\n",
    "\n",
    "from sklearn.model_selection import cross_val_score\n",
    "from sklearn.tree import DecisionTreeClassifier\n",
    "from sklearn.ensemble import AdaBoostClassifier\n",
    "\n",
    "from sklearn.model_selection import train_test_split\n",
    "\n",
    "from collections import Counter"
   ]
  },
  {
   "cell_type": "code",
   "execution_count": 2,
   "metadata": {},
   "outputs": [],
   "source": [
    "df = pd.read_csv('../data/BitcoinHeistData.csv')\n",
    "df = df.sample(frac=1)\n",
    "df.head()\n",
    "le = preprocessing.LabelEncoder()\n",
    "le.fit(df.address)\n",
    "df.address = le.transform(df.address)\n"
   ]
  },
  {
   "cell_type": "code",
   "execution_count": 3,
   "metadata": {},
   "outputs": [
    {
     "data": {
      "text/plain": [
       "0"
      ]
     },
     "execution_count": 3,
     "metadata": {},
     "output_type": "execute_result"
    }
   ],
   "source": [
    "df.isnull().sum().sum()\n"
   ]
  },
  {
   "cell_type": "code",
   "execution_count": 4,
   "metadata": {},
   "outputs": [],
   "source": [
    "def split(df):\n",
    "    # df = df.drop(['address'], axis=1)\n",
    "    df = df.sample(frac=1)\n",
    "    l1 = int(len(df)*0.7)\n",
    "    l2 = int(len(df)*0.85)\n",
    "    \n",
    "    X = df.drop('label', axis=1)\n",
    "    y = df['label']\n",
    "    \n",
    "    X_train, X_val, X_test, y_train, y_val, y_test = (X.iloc[:l1], \n",
    "                                                      X.iloc[l1:l2], \n",
    "                                                      X.iloc[l2:], \n",
    "                                                      y.iloc[:l1], \n",
    "                                                      y.iloc[l1:l2], \n",
    "                                                      y.iloc[l2:])\n",
    "    return X_train, X_val, X_test, y_train, y_val, y_test\n",
    "\n",
    "X_train, X_val, X_test, y_train, y_val, y_test = split(df)"
   ]
  },
  {
   "cell_type": "markdown",
   "metadata": {},
   "source": [
    "#### A. Decision tree"
   ]
  },
  {
   "cell_type": "code",
   "execution_count": 5,
   "metadata": {},
   "outputs": [
    {
     "name": "stdout",
     "output_type": "stream",
     "text": [
      "gini, max-depth:4, score:0.9858630187083576\n",
      "gini, max-depth:8, score:0.9865624392864082\n",
      "gini, max-depth:10, score:0.9869418635215598\n",
      "gini, max-depth:15, score:0.9883315619250066\n",
      "gini, max-depth:20, score:0.9877029976800266\n",
      "entropy, max-depth:4, score:0.9857944480634507\n",
      "entropy, max-depth:8, score:0.9862493000079999\n",
      "entropy, max-depth:10, score:0.9873578587673284\n",
      "entropy, max-depth:15, score:0.9888549845144627\n",
      "entropy, max-depth:20, score:0.9877167118090079\n"
     ]
    }
   ],
   "source": [
    "def dt():\n",
    "    for d in [4, 8, 10, 15, 20]: #15 : 0.9885\n",
    "        clf = DecisionTreeClassifier(criterion='gini', max_depth=d)\n",
    "        clf.fit(X_train, y_train)\n",
    "        print(f'gini, max-depth:{d}, score:{clf.score(X_test, y_test)}')\n",
    "\n",
    "    for d in [4, 8, 10, 15, 20]: #15 : 0.9888\n",
    "        clf = DecisionTreeClassifier(criterion='entropy', max_depth=d)\n",
    "        clf.fit(X_train, y_train)\n",
    "        print(f'entropy, max-depth:{d}, score:{clf.score(X_test, y_test)}')\n",
    "\n",
    "\n",
    "dt()"
   ]
  },
  {
   "cell_type": "markdown",
   "metadata": {},
   "source": [
    "#### B. Ensembling"
   ]
  },
  {
   "cell_type": "code",
   "execution_count": 6,
   "metadata": {},
   "outputs": [],
   "source": [
    "def maxc(row):\n",
    "    c = Counter(row)\n",
    "    return c.most_common(1)[0][0]\n",
    "def ensemble(X_train,y_train, n=100):\n",
    "    trees = []\n",
    "    print('creating trees...')\n",
    "    for i in range(n):\n",
    "        X_, X__, y_, y__ = train_test_split(X_train, y_train, test_size=0.5)\n",
    "        tree = DecisionTreeClassifier(criterion='entropy', max_depth=3)\n",
    "        tree.fit(X_, y_)\n",
    "        trees.append(tree)\n",
    "    return trees\n",
    "\n",
    "def ensemble_predict(trees, X_test, y_test):\n",
    "    y_pred = []\n",
    "    for tree in trees:\n",
    "        y_pred.append(tree.predict(X_test))\n",
    "    y_pred = np.array(y_pred)\n",
    "    y_pred = np.transpose(y_pred)\n",
    "    \n",
    "    y_pred = np.apply_along_axis(lambda x: Counter(x).most_common(1)[0][0], 1, y_pred)\n",
    "    score = metrics.accuracy_score(y_test, y_pred)\n",
    "    print(score)\n",
    "    \n",
    "    return y_pred,score\n"
   ]
  },
  {
   "cell_type": "code",
   "execution_count": 7,
   "metadata": {},
   "outputs": [
    {
     "name": "stdout",
     "output_type": "stream",
     "text": [
      "creating trees...\n"
     ]
    }
   ],
   "source": [
    "trees = ensemble(X_train,y_train, n=100)"
   ]
  },
  {
   "cell_type": "code",
   "execution_count": null,
   "metadata": {},
   "outputs": [
    {
     "name": "stdout",
     "output_type": "stream",
     "text": [
      "0.9858881612781568\n"
     ]
    }
   ],
   "source": [
    "yp, score = ensemble_predict(trees, X_test, y_test)"
   ]
  },
  {
   "cell_type": "markdown",
   "metadata": {},
   "source": [
    "#### C. Adaboost"
   ]
  },
  {
   "cell_type": "code",
   "execution_count": null,
   "metadata": {},
   "outputs": [
    {
     "name": "stdout",
     "output_type": "stream",
     "text": [
      "4 : 0.985053885098456\n",
      "8 : 0.9850630278511102\n",
      "10 : 0.9851041702380544\n",
      "15 : 0.9850241711523297\n",
      "20 : 0.9851178843670358\n"
     ]
    }
   ],
   "source": [
    "ada_arr = []\n",
    "for i in [4, 8, 10, 15, 20]:\n",
    "    clf = AdaBoostClassifier(\n",
    "        base_estimator=DecisionTreeClassifier(criterion='entropy'), \n",
    "        n_estimators=i\n",
    "        )\n",
    "    clf.fit(X_train, y_train)\n",
    "    print(i,':',clf.score(X_test, y_test))\n",
    "    ada_arr.append(clf)\n",
    "    \n",
    "\n"
   ]
  },
  {
   "cell_type": "code",
   "execution_count": null,
   "metadata": {},
   "outputs": [
    {
     "name": "stdout",
     "output_type": "stream",
     "text": [
      "AdaBoostClassifier(base_estimator=DecisionTreeClassifier(criterion='entropy'),\n",
      "                   n_estimators=20)\n"
     ]
    }
   ],
   "source": [
    "print(clf)\n"
   ]
  }
 ],
 "metadata": {
  "kernelspec": {
   "display_name": "Python 3.8.0 ('.env': venv)",
   "language": "python",
   "name": "python3"
  },
  "language_info": {
   "codemirror_mode": {
    "name": "ipython",
    "version": 3
   },
   "file_extension": ".py",
   "mimetype": "text/x-python",
   "name": "python",
   "nbconvert_exporter": "python",
   "pygments_lexer": "ipython3",
   "version": "3.8.0"
  },
  "orig_nbformat": 4,
  "vscode": {
   "interpreter": {
    "hash": "05a5be781573ceb019f5b4a7807b8e5fd52cf2e9ebde3cedb8f146ac54c64ae5"
   }
  }
 },
 "nbformat": 4,
 "nbformat_minor": 2
}
