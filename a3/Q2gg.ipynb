{
  "cells": [
    {
      "cell_type": "code",
      "execution_count": 1,
      "metadata": {
        "id": "x8KDZjREdwyS"
      },
      "outputs": [],
      "source": [
        "import pandas as pd\n",
        "import numpy as np\n",
        "import matplotlib.pyplot as plt\n",
        "import math\n",
        "from tqdm import tqdm\n",
        "from mlxtend.data import loadlocal_mnist\n"
      ]
    },
    {
      "cell_type": "code",
      "execution_count": null,
      "metadata": {
        "colab": {
          "base_uri": "https://localhost:8080/"
        },
        "id": "AHh_9WlFuzyf",
        "outputId": "405aabb9-7709-4773-d916-788d1a5fa6b1"
      },
      "outputs": [],
      "source": []
    },
    {
      "cell_type": "code",
      "execution_count": 2,
      "metadata": {
        "id": "qJ_hD671dwya"
      },
      "outputs": [],
      "source": [
        "def fn_split(data, size):\n",
        "    t = list(range(data.shape[0]))\n",
        "    np.random.shuffle(t)\n",
        "    return data[t[:int(size*data.shape[0])]], data[t[int(size*data.shape[0]):]]\n",
        "\n",
        "def fetch():\n",
        "\n",
        "    X_train, Y_train = loadlocal_mnist(\n",
        "        images_path='../data/mnist/train-images-idx3-ubyte', labels_path='../data/mnist/train-labels-idx1-ubyte')\n",
        "    X_test, Y_test = loadlocal_mnist(\n",
        "        images_path='../data/mnist/t10k-images-idx3-ubyte', labels_path='../data/mnist/t10k-labels-idx1-ubyte')\n",
        "\n",
        "    \n",
        "    X_train_new = np.empty((len(X_train), 784))\n",
        "    for i in range(0, len(X_train)):\n",
        "        X_train_new[i] = np.ravel(X_train[i])\n",
        "        \n",
        "    Y_train = Y_train.reshape((60000, 1))\n",
        "    \n",
        "    # print(Y_train.shape)\n",
        "        \n",
        "    X_test_new = np.empty((len(X_test), 784))\n",
        "    for i in range(0, len(X_test)):\n",
        "        X_test_new[i] = np.ravel(X_test[i])\n",
        "        \n",
        "    Y_test = Y_test.reshape((10000, 1))\n",
        "    \n",
        "    \n",
        "    X_train_new = X_train_new.reshape((60000, 784))\n",
        "    X_test_new = X_test_new.reshape((10000, 784))\n",
        "    data = np.append(X_train_new, X_test_new, axis = 0)\n",
        "    labels = np.append(Y_train, Y_test, axis = 0)\n",
        "    \n",
        "    final_data = np.append(data, labels, axis=1)\n",
        "    \n",
        "    train, val = fn_split(final_data, 0.7)\n",
        "    val, test = fn_split(val, 0.66)\n",
        "    train, train_labels = train[:, :-1], train[:,-1:]\n",
        "    val, val_labels = val[:, :-1], val[:,-1:]\n",
        "    test, test_labels = test[:, :-1], test[:,-1:]\n",
        "    \n",
        "    \n",
        "    return train, train_labels, test, test_labels, val, val_labels\n",
        "        \n",
        "X_train, Y_train, X_test, Y_test, X_val, Y_val =  fetch()\n",
        "# print(X_train.shape)\n",
        "# print(Y_train.shape)"
      ]
    },
    {
      "cell_type": "code",
      "execution_count": 3,
      "metadata": {
        "colab": {
          "base_uri": "https://localhost:8080/"
        },
        "id": "XNgHkhUSdwyc",
        "outputId": "e01db591-b1d2-43c7-a2f7-8a14526358f2"
      },
      "outputs": [
        {
          "data": {
            "text/plain": [
              "(49000, 1)"
            ]
          },
          "execution_count": 3,
          "metadata": {},
          "output_type": "execute_result"
        }
      ],
      "source": [
        "Y_train.shape"
      ]
    },
    {
      "cell_type": "code",
      "execution_count": 4,
      "metadata": {
        "id": "p5ZpsPhZdwyi"
      },
      "outputs": [],
      "source": [
        "class NeuralNetwork:\n",
        "\n",
        "    def __init__(self, n_layers, layer_sizes, activation, learning_rate, weight_init, batch_size, num_epochs):\n",
        "        self.n_layers = n_layers\n",
        "        self.layer_sizes = layer_sizes\n",
        "        self.activation = activation\n",
        "        self.learning_rate = learning_rate\n",
        "        self.weight_init = weight_init\n",
        "        self.batch_size = batch_size\n",
        "        self.num_epochs = num_epochs\n",
        "        \n",
        "    \n",
        "    def initializeWeights(self):\n",
        "        \n",
        "        layers = self.layer_sizes\n",
        "        # total_layers = len(self.layer_sizes)\n",
        "        params = {}\n",
        "        \n",
        "        L = self.n_layers\n",
        "        \n",
        "        for i in range(0, L-1):\n",
        "            \n",
        "            curr_layer = None\n",
        "            \n",
        "            if (self.weight_init == \"zero\"):\n",
        "                curr_layer = np.zeros((layers[i], layers[i+1]))\n",
        "                \n",
        "            elif (self.weight_init == \"random\"):\n",
        "                curr_layer = np.random.randn(layers[i], layers[i+1])*0.01\n",
        "                \n",
        "            elif (self.weight_init == \"normal\"):\n",
        "                curr_layer = np.random.normal(size = (layers[i], layers[i+1]))*0.01\n",
        "                \n",
        "            params[\"W\" + str(i+1)] = curr_layer\n",
        "            params[\"b\" + str(i+1)] = np.zeros((1,layers[i+1]))\n",
        "\n",
        "        self.parameters = params\n",
        "            \n",
        "        return params\n",
        "        \n",
        "    def activation_func(self, z):\n",
        "        \n",
        "        if (self.activation == \"ReLU\"):\n",
        "            return (z * (z>=0))\n",
        "            \n",
        "        elif (self.activation == \"Leaky ReLU\"):\n",
        "            return np.where(z > 0, z, z * 0.01)\n",
        "            \n",
        "        elif (self.activation == \"sigmoid\"):\n",
        "            return (1.0/(1+np.exp(-z)))\n",
        "        \n",
        "        elif (self.activation == \"linear\"):\n",
        "            return z\n",
        "            \n",
        "        elif (self.activation == \"tanh\"):\n",
        "            return np.tanh(z)\n",
        "            \n",
        "        elif (self.activation == \"softmax\"):\n",
        "            return np.exp(z) / np.sum(np.exp(z), axis=0)\n",
        "        \n",
        "    def activation_grad(self, y, activation=\"linear\"):\n",
        "        \n",
        "        if (self.activation == \"ReLU\"):\n",
        "            return 1*(y>=0)\n",
        "            \n",
        "        elif (self.activation == \"Leaky ReLU\"):\n",
        "            dy = np.ones_like(y)\n",
        "            dy[y < 0] = 0.01\n",
        "            return dy\n",
        "            \n",
        "        elif (self.activation == \"sigmoid\"):\n",
        "            return self.activation_func(y) * (1-self.activation_func(y))\n",
        "        \n",
        "        elif (self.activation == \"linear\"):\n",
        "            return np.ones(y.shape)\n",
        "            \n",
        "        elif (self.activation == \"tanh\"):\n",
        "            return self.activation_func(y) * (1-self.activation_func(y))\n",
        "            \n",
        "        elif (self.activation == \"softmax\"):\n",
        "            return self.activation_func(y) * (1-self.activation_func(y))\n",
        "        \n",
        "    \n",
        "    def forward_propogation(self, X, params):\n",
        "        \n",
        "        caches = {}\n",
        "        A = X\n",
        "        \n",
        "        # print(X.shape)\n",
        "        \n",
        "        L = len(params)//2\n",
        "        \n",
        "        for i in range(0, L-1):\n",
        "            \n",
        "            A_prev = A\n",
        "            Z = np.dot(A_prev, params[\"W\" + str(i+1)]) + params[\"b\" + str(i+1)]\n",
        "            \n",
        "            A = self.activation_func(Z)\n",
        "            \n",
        "            caches[str(i+1)] = (Z, A)\n",
        "            A_prev = A\n",
        "            \n",
        "        Z_l = np.dot(A_prev, params[\"W\" + str(L)]) + params[\"b\" + str(L)]\n",
        "        A_l = self.activation_func(Z_l)\n",
        "        \n",
        "        caches[str(L)] = (Z_l, A_l)\n",
        "        \n",
        "        return A_l, caches    \n",
        "        \n",
        "    \n",
        "    def backward_propogation(self, X, Y, caches):\n",
        "        \n",
        "        grads = {}\n",
        "        \n",
        "        L = self.n_layers - 1\n",
        "        Lx = len(X)\n",
        "        caches[str(0)] = (X, X)\n",
        "        \n",
        "        A = caches[str(L)][1]\n",
        "        \n",
        "        dZ = A-Y\n",
        "        \n",
        "        dW = np.dot(caches[str(L-1)][1].T, dZ) / Lx\n",
        "        db = np.sum(dZ, axis=0, keepdims=True) / Lx\n",
        "        \n",
        "        dA_prev = np.dot(dZ, self.parameters[\"W\" + str(L)].T)\n",
        "        \n",
        "        grads[\"dW\" + str(L)] = dW\n",
        "        grads[\"db\" + str(L)] = db\n",
        "        \n",
        "        for i in range(L - 1, 0, -1):\n",
        "            d_act = self.activation_grad(caches[str(i)][0])\n",
        "            \n",
        "            # print(dA_prev.shape)\n",
        "            # print(d_act.shape)\n",
        "            # dZ = np.matmul(dA_prev, d_act)\n",
        "            dZ = dA_prev * d_act\n",
        "            # print(dZ)\n",
        "            dW = np.dot(caches[str(i-1)][1].T, dZ) / Lx\n",
        "            db = np.sum(dZ, axis=0, keepdims=True) / Lx\n",
        "            \n",
        "            if i > 1:\n",
        "                dA_prev = np.dot(dZ, self.parameters[\"W\" + str(i)].T)\n",
        "\n",
        "            grads[\"dW\" + str(i)] = dW\n",
        "            grads[\"db\" + str(i)] = db\n",
        "                \n",
        "        self.update_weights(grads)        \n",
        "        \n",
        "        return grads\n",
        "    \n",
        "    \n",
        "    def update_weights(self, grads):\n",
        "        \n",
        "        L = self.n_layers\n",
        "        \n",
        "        for i in range(0, L-1):\n",
        "            self.parameters[\"W\" + str(i+1)] = self.parameters[\"W\" + str(i+1)] - self.learning_rate * grads[\"dW\" + str(i+1)]\n",
        "            self.parameters[\"b\" + str(i+1)] = self.parameters[\"b\" + str(i+1)] - self.learning_rate * grads[\"db\" + str(i+1)]\n",
        "            \n",
        "            \n",
        "    def labels_to_class(self, y):\n",
        "        m = len(y)\n",
        "        c = int(np.max(y))\n",
        "        y_classes = np.zeros((m,c+1))\n",
        "        for i in range(m):\n",
        "            l = int(y[i])\n",
        "            y_classes[i,l] = 1\n",
        "\n",
        "        return y_classes\n",
        "                    \n",
        "        \n",
        "      \n",
        "    def fittt(self, X, y , x_test=None, y_test=None):\n",
        "        y = self.labels_to_class(y)\n",
        "        \n",
        "        m , n_0 = X.shape\n",
        "        n_l = y.shape[1]\n",
        "\n",
        "        parameters = self.initializeWeights()\n",
        "        self.parameters = parameters\n",
        "\n",
        "        train_loss_history = []\n",
        "        train_accuracy_history = []\n",
        "        test_loss_history = []\n",
        "        test_accuracy_history = []\n",
        "\n",
        "        \n",
        "\n",
        "        for epoch in tqdm(range(self.num_epochs), desc = \"Progress Total : \", position = 0, leave = True):\n",
        "\n",
        "\n",
        "            n_batches = m//self.batch_size\n",
        "            X_batches = [X[self.batch_size*i:self.batch_size*(i+1),:] for i in range(0,n_batches)]\n",
        "            y_batches = [y[self.batch_size*i:self.batch_size*(i+1),:] for i in range(0,n_batches)]\n",
        "\n",
        "            train_batch_loss = []\n",
        "            test_batch_loss = []\n",
        "            train_batch_accuracy = []\n",
        "            test_batch_accuracy = []\n",
        "\n",
        "            for curr_x, curr_y in tqdm(zip(X_batches,y_batches), desc = \"Progress Epoch: \" + str(epoch+1) + \"/\" + str(self.num_epochs), position = 0, leave = True, total = len(X_batches)):\n",
        "                A, caches = self.forward_propogation(curr_x,parameters)\n",
        "\n",
        "                train_cost = self.cross_entropy_loss(A,curr_y)\n",
        "                train_batch_loss.append(train_cost)\n",
        "#                 print(A)\n",
        "                self.backward_propogation(curr_x,curr_y, caches)\n",
        "#                 train_batch_accuracy.append(self.score(curr_x,np.argmax(curr_y,axis = 1)))\n",
        "                if(x_test is not None):\n",
        "                    proba = self.predict_proba(x_test)\n",
        "#                     print(proba.shape)\n",
        "                    test_loss = self.cross_entropy_loss(proba, self.labels_to_class(y_test))\n",
        "                    test_batch_loss.append(test_loss)\n",
        "#                     test_batch_accuracy.append(self.score(x_test, y_test))\n",
        "                    \n",
        "#             print(\"Training Accuracy : \", np.array(train_batch_accuracy).mean())\n",
        "#             print(\"Validation Accuracy : \", np.array(test_batch_accuracy).mean())\n",
        "            print(\"Testing loss : \" ,np.array(test_batch_loss).mean())\n",
        "            print(\"Training Loss : \", np.array(train_batch_loss).mean())\n",
        "            \n",
        "\n",
        "\n",
        "            train_loss_history.append( np.array(train_batch_loss).mean())\n",
        "#             train_accuracy_history.append( np.array(train_batch_accuracy).mean())\n",
        "            test_loss_history.append( np.array(test_batch_loss).mean())\n",
        "#             test_accuracy_history.append(  np.array(test_batch_accuracy).mean())\n",
        "                \n",
        "                \n",
        "        \n",
        "        self.train_loss_history = train_loss_history\n",
        "        self.train_accuracy_history = train_accuracy_history\n",
        "        self.test_loss_history = test_loss_history\n",
        "        self.test_accuracy_history = test_accuracy_history\n",
        "        \n",
        "        \n",
        "        self.parameters = parameters\n",
        "\n",
        "\n",
        "        return self  \n",
        "        \n",
        "        \n",
        "    def fit (self, X_train, Y_train, X_val, Y_val):\n",
        "        \n",
        "        Y_train = self.labels_to_class(Y_train)\n",
        "        \n",
        "        m = X_train.shape[0]\n",
        "        no_batches = m//self.batch_size\n",
        "        datas=[]\n",
        "        for subset in range(0,no_batches):\n",
        "            mini_X = X_train[self.batch_size*subset : self.batch_size*(subset+1), :]\n",
        "            mini_Y = Y_train[self.batch_size*subset : self.batch_size*(subset+1), :]\n",
        "            datas.append((mini_X,mini_Y))\n",
        "        \n",
        "        \n",
        "        print(X_train.shape)\n",
        "        print(Y_train.shape)\n",
        "        print(X_test.shape)\n",
        "        print(Y_test.shape)\n",
        "        \n",
        "        params = self.initializeWeights()\n",
        "        \n",
        "        self.parameters = params\n",
        "        \n",
        "        train_loss = []\n",
        "        val_loss = []\n",
        "      \n",
        "        for epoch in range(1, self.num_epochs+1):\n",
        "            print(\"Epoch: \", epoch)\n",
        "            trainbatchloss = []\n",
        "            valbatchloss = []\n",
        "\n",
        "            for x_b, y_b in datas:\n",
        "                A_l, caches = self.forward_propogation(x_b,self.parameters)\n",
        "                train_cost = self.cross_entropy_loss(A_l, y_b)\n",
        "                trainbatchloss.append(train_cost)\n",
        "                self.backward_propogation(x_b,y_b, caches)\n",
        "                proba = self.predict_proba(X_val)\n",
        "                valloss = self.cross_entropy_loss(proba, self.labels_to_class(Y_val))\n",
        "                valbatchloss.append(valloss)\n",
        "\n",
        "            \n",
        "            l1 = np.array(trainbatchloss).mean()\n",
        "            l2 = np.array(valbatchloss).mean()\n",
        "\n",
        "\n",
        "            train_loss.append(l1)\n",
        "            val_loss.append(l2)\n",
        "            \n",
        "            print(\"Training loss : \" ,l1)\n",
        "            print(\"Validation Loss : \", l2)\n",
        "              \n",
        "              \n",
        "      \n",
        "        self.train_loss = train_loss\n",
        "        self.val_loss = val_loss\n",
        "        self.parameters = params\n",
        "  \n",
        "    \n",
        "     \n",
        "    def cross_entropy_loss(self, A_l, y_test):\n",
        "        \n",
        "        temp=A_l[np.arange(len(y_test)), y_test.argmax(axis=1)]\n",
        "        temp=np.where(temp>0.0000000000001,temp,0.000000000001)\n",
        "        logp = - np.log(temp)\n",
        "        celoss = np.sum(logp)/len(y_test)\n",
        "        return celoss\n",
        "        \n",
        "        \n",
        "        # m = len(y_test)\n",
        "        \n",
        "        # # logprods = np.dot(y_test, np.log(A_l).T) + np.dot((1-y_test), np.log(1-A_l).T)\n",
        "        # # cost = -1/n*np.sum(logprods)\n",
        "        \n",
        "        # logp = - np.log(1e-7 + A_l[np.arange(m), y_test.argmax(axis=1)])\n",
        "        # loss = np.sum(logp)/m\n",
        "        # return loss \n",
        "            \n",
        "    def predict_proba(self, X):\n",
        "        \n",
        "        prob, caches = self.forward_propogation(X, self.parameters)\n",
        "        \n",
        "        return prob\n",
        "    \n",
        "    def predict(self, X):\n",
        "        \n",
        "        prob = self.predict_proba(X)\n",
        "        Y_prediction = np.argmax(prob, axis = 1)\n",
        "        return Y_prediction\n",
        "    \n",
        "    def score(self, X, Y):\n",
        "        Y_prediction = self.predict(X)\n",
        "        count = 0\n",
        "        for i in range(len(Y)):    \n",
        "            if (Y_prediction[i] == Y[i]):\n",
        "                count+=1\n",
        "        return count/len(Y)\n",
        "        \n",
        "        # acc = (Y_prediction == Y)\n",
        "        # return acc.sum()/len(Y)\n",
        "    "
      ]
    },
    {
      "cell_type": "markdown",
      "metadata": {
        "id": "f_xUZW1Xdwym"
      },
      "source": [
        "### ReLU"
      ]
    },
    {
      "cell_type": "code",
      "execution_count": 5,
      "metadata": {
        "colab": {
          "base_uri": "https://localhost:8080/"
        },
        "id": "55qg_xRldwyr",
        "outputId": "ee15e359-bf9d-4c2a-89b8-3fe74365d3b2"
      },
      "outputs": [
        {
          "name": "stdout",
          "output_type": "stream",
          "text": [
            "(49000, 784)\n",
            "(49000, 10)\n",
            "(7140, 784)\n",
            "(7140, 1)\n",
            "Epoch:  1\n",
            "Training loss :  1.8853272765897888\n",
            "Validation Loss :  1.8400291182719766\n",
            "Epoch:  2\n",
            "Training loss :  0.5817296710219819\n",
            "Validation Loss :  0.5774784132972726\n",
            "Epoch:  3\n",
            "Training loss :  0.2918745812428881\n",
            "Validation Loss :  0.3198969495532745\n",
            "Epoch:  4\n",
            "Training loss :  0.20080991170047405\n",
            "Validation Loss :  0.2583331998016294\n",
            "Epoch:  5\n",
            "Training loss :  0.15244074258397375\n",
            "Validation Loss :  0.23498430025148526\n",
            "Epoch:  6\n",
            "Training loss :  0.1196579820122927\n",
            "Validation Loss :  0.23074232364053107\n",
            "Epoch:  7\n",
            "Training loss :  0.09480909502112302\n",
            "Validation Loss :  0.22723615837509728\n",
            "Epoch:  8\n",
            "Training loss :  0.07773562068959936\n",
            "Validation Loss :  0.22728163961671574\n",
            "Epoch:  9\n",
            "Training loss :  0.061252375507559645\n",
            "Validation Loss :  0.22709143160828013\n",
            "Epoch:  10\n",
            "Training loss :  0.04695841694354993\n",
            "Validation Loss :  0.22647756773054328\n",
            "Epoch:  11\n",
            "Training loss :  0.03639778363941637\n",
            "Validation Loss :  0.2310051659031009\n",
            "Epoch:  12\n",
            "Training loss :  0.030679046438003486\n",
            "Validation Loss :  0.23209667066767312\n",
            "Epoch:  13\n",
            "Training loss :  0.02500880155423726\n",
            "Validation Loss :  0.2345828454860739\n",
            "Epoch:  14\n",
            "Training loss :  0.021638351664998577\n",
            "Validation Loss :  0.23857463788736996\n",
            "Epoch:  15\n",
            "Training loss :  0.01708860985589452\n",
            "Validation Loss :  0.23064009947166766\n",
            "Epoch:  16\n",
            "Training loss :  0.01304413507025957\n",
            "Validation Loss :  0.2204530764143194\n",
            "Epoch:  17\n",
            "Training loss :  0.009057968863032798\n",
            "Validation Loss :  0.21383721777660772\n",
            "Epoch:  18\n",
            "Training loss :  0.008372342056677596\n",
            "Validation Loss :  0.20356734437133872\n",
            "Epoch:  19\n",
            "Training loss :  0.0064753456862028744\n",
            "Validation Loss :  0.19990415666779815\n",
            "Epoch:  20\n",
            "Training loss :  0.006348493665105241\n",
            "Validation Loss :  0.19368653591630414\n",
            "Epoch:  21\n",
            "Training loss :  0.0048520889558143635\n",
            "Validation Loss :  0.19344641910278484\n",
            "Epoch:  22\n",
            "Training loss :  0.004403475914567775\n",
            "Validation Loss :  0.19325545045605524\n",
            "Epoch:  23\n",
            "Training loss :  0.0035325372937556904\n",
            "Validation Loss :  0.18903771144917456\n",
            "Epoch:  24\n",
            "Training loss :  0.003228547858599114\n",
            "Validation Loss :  0.1863735842223631\n",
            "Epoch:  25\n",
            "Training loss :  0.0030061804072756796\n",
            "Validation Loss :  0.18622563222620686\n",
            "Accuracy - 0.9761904761904762\n"
          ]
        }
      ],
      "source": [
        "nn = NeuralNetwork(6, [784,256, 128, 64, 32,10], 'ReLU', 0.08, 'normal', 128, 25)\n",
        "\n",
        "\n",
        "nn.fit(X_train, Y_train, X_val, Y_val)\n",
        "\n",
        "print(\"Accuracy - \" + str(nn.score(X_test,Y_test)))"
      ]
    },
    {
      "cell_type": "code",
      "execution_count": 6,
      "metadata": {
        "id": "eW_RSnUTdwyx"
      },
      "outputs": [
        {
          "data": {
            "image/png": "[encoded data removed]",
            "text/plain": [
              "<Figure size 640x480 with 1 Axes>"
            ]
          },
          "metadata": {},
          "output_type": "display_data"
        }
      ],
      "source": [
        "\n",
        "plt.plot([x for x in range(1,len(nn.train_loss) + 1, 1)],nn.train_loss, label = \"Training Loss \" )\n",
        "plt.plot([x for x in range(1,len(nn.val_loss) + 1, 1)],nn.val_loss, label = \"Validation Loss \" )\n",
        "plt.xlabel('Epochs ')\n",
        "plt.ylabel('Loss')\n",
        "plt.legend()\n",
        "plt.title(\"ReLU\")\n",
        "plt.show()\n",
        "    "
      ]
    },
    {
      "cell_type": "code",
      "execution_count": 8,
      "metadata": {
        "id": "6JUHI21Fdwyz"
      },
      "outputs": [],
      "source": [
        "import pickle\n",
        "file = open(\"Weights/ReLU\", \"wb\")\n",
        "pickle.dump(nn, file)\n",
        "file.close()"
      ]
    },
    {
      "cell_type": "markdown",
      "metadata": {
        "id": "zojKEJuYdwzG"
      },
      "source": [
        "### Leaky ReLU"
      ]
    },
    {
      "cell_type": "code",
      "execution_count": 9,
      "metadata": {
        "id": "ZQ7_B5QhdwzN"
      },
      "outputs": [
        {
          "name": "stdout",
          "output_type": "stream",
          "text": [
            "(49000, 784)\n",
            "(49000, 10)\n",
            "(7140, 784)\n",
            "(7140, 1)\n",
            "Epoch:  1\n",
            "Training loss :  1.8401895975567581\n",
            "Validation Loss :  1.823751318389461\n",
            "Epoch:  2\n",
            "Training loss :  0.49551936098064264\n",
            "Validation Loss :  0.5006674554174075\n",
            "Epoch:  3\n",
            "Training loss :  0.2264669819507247\n",
            "Validation Loss :  0.2548016352239103\n",
            "Epoch:  4\n",
            "Training loss :  0.1529022163785127\n",
            "Validation Loss :  0.18976898439877357\n",
            "Epoch:  5\n",
            "Training loss :  0.11277528716615697\n",
            "Validation Loss :  0.16224501635900615\n",
            "Epoch:  6\n",
            "Training loss :  0.08543330032477671\n",
            "Validation Loss :  0.1508053373591177\n",
            "Epoch:  7\n",
            "Training loss :  0.06699854194438627\n",
            "Validation Loss :  0.14134691303476335\n",
            "Epoch:  8\n",
            "Training loss :  0.052223621780071165\n",
            "Validation Loss :  0.13549562145835267\n",
            "Epoch:  9\n",
            "Training loss :  0.04115009768874801\n",
            "Validation Loss :  0.13014987255213606\n",
            "Epoch:  10\n",
            "Training loss :  0.03421547486168171\n",
            "Validation Loss :  0.1284939259479261\n",
            "Epoch:  11\n",
            "Training loss :  0.030777327085206124\n",
            "Validation Loss :  0.12450417504958383\n",
            "Epoch:  12\n",
            "Training loss :  0.024014078231549177\n",
            "Validation Loss :  0.12221581917220133\n",
            "Epoch:  13\n",
            "Training loss :  0.020151432216161558\n",
            "Validation Loss :  0.11994139160191941\n",
            "Epoch:  14\n",
            "Training loss :  0.015691456403452\n",
            "Validation Loss :  0.11937091534506009\n",
            "Epoch:  15\n",
            "Training loss :  0.013893068288387985\n",
            "Validation Loss :  0.12110529736356739\n",
            "Epoch:  16\n",
            "Training loss :  0.011715584825350497\n",
            "Validation Loss :  0.12053947651859952\n",
            "Epoch:  17\n",
            "Training loss :  0.01015283756849285\n",
            "Validation Loss :  0.12088934522635368\n",
            "Epoch:  18\n",
            "Training loss :  0.008938007925351129\n",
            "Validation Loss :  0.12221668287865747\n",
            "Epoch:  19\n",
            "Training loss :  0.008355396628577061\n",
            "Validation Loss :  0.12124042430735363\n",
            "Epoch:  20\n",
            "Training loss :  0.009791427412793565\n",
            "Validation Loss :  0.12816617520569762\n",
            "Epoch:  21\n",
            "Training loss :  0.006944285178441777\n",
            "Validation Loss :  0.1184075902426555\n",
            "Epoch:  22\n",
            "Training loss :  0.012360415322797505\n",
            "Validation Loss :  0.12351489369050012\n",
            "Epoch:  23\n",
            "Training loss :  0.012247057065266746\n",
            "Validation Loss :  0.13091465351647993\n",
            "Epoch:  24\n",
            "Training loss :  0.0052765594542138914\n",
            "Validation Loss :  0.11733422311850417\n",
            "Epoch:  25\n",
            "Training loss :  0.004702191559619844\n",
            "Validation Loss :  0.11576322032843249\n",
            "Accuracy - 0.9781512605042016\n"
          ]
        }
      ],
      "source": [
        "nn2 = NeuralNetwork(6, [784,256, 128, 64, 32,10], 'Leaky ReLU', 0.08, 'normal', 128, 25)\n",
        "\n",
        "\n",
        "nn2.fit(X_train, Y_train, X_val, Y_val)\n",
        "\n",
        "print(\"Accuracy - \" + str(nn2.score(X_test,Y_test)))"
      ]
    },
    {
      "cell_type": "code",
      "execution_count": 10,
      "metadata": {
        "id": "QRBpDmQmdwzf"
      },
      "outputs": [
        {
          "data": {
            "image/png": "[encoded data removed]",
            "text/plain": [
              "<Figure size 640x480 with 1 Axes>"
            ]
          },
          "metadata": {},
          "output_type": "display_data"
        }
      ],
      "source": [
        "import pickle\n",
        "\n",
        "plt.plot([x for x in range(1,len(nn2.train_loss) + 1)],nn2.train_loss, label = \"Training Loss \" )\n",
        "plt.plot([x for x in range(1,len(nn2.val_loss) + 1)],nn2.val_loss, label = \"Validation Loss \" )\n",
        "plt.xlabel('Epochs ')\n",
        "plt.ylabel('Loss')\n",
        "plt.legend()\n",
        "plt.title(\"Leaky ReLU\")\n",
        "plt.show()\n",
        "\n",
        "file = open(\"Weights/Leaky_ReLU\", \"wb\")\n",
        "pickle.dump(nn2, file)\n",
        "file.close()"
      ]
    },
    {
      "cell_type": "markdown",
      "metadata": {
        "id": "Qqx5ouS2dwzi"
      },
      "source": [
        "### Sigmoid"
      ]
    },
    {
      "cell_type": "code",
      "execution_count": 11,
      "metadata": {
        "id": "PVbhqD-Mdwzj"
      },
      "outputs": [
        {
          "name": "stdout",
          "output_type": "stream",
          "text": [
            "(49000, 784)\n",
            "(49000, 10)\n",
            "(7140, 784)\n",
            "(7140, 1)\n",
            "Epoch:  1\n",
            "Training loss :  2.2640103646836742\n",
            "Validation Loss :  2.2681793037911913\n",
            "Epoch:  2\n",
            "Training loss :  2.3024346559552913\n",
            "Validation Loss :  2.30245985322087\n",
            "Epoch:  3\n",
            "Training loss :  2.3024115781781034\n",
            "Validation Loss :  2.3024345111117506\n",
            "Epoch:  4\n",
            "Training loss :  2.3023890222280823\n",
            "Validation Loss :  2.3024097261436705\n",
            "Epoch:  5\n",
            "Training loss :  2.3023669780565563\n",
            "Validation Loss :  2.302385488556174\n",
            "Epoch:  6\n",
            "Training loss :  2.3023454355995265\n",
            "Validation Loss :  2.3023617884921475\n",
            "Epoch:  7\n",
            "Training loss :  2.302324384806526\n",
            "Validation Loss :  2.302338616031642\n",
            "Epoch:  8\n"
          ]
        }
      ],
      "source": [
        "nn3 = NeuralNetwork(6, [784,256, 128, 64, 32,10], 'sigmoid', 0.08, 'normal', 128, 25)\n",
        "nn3.fit(X_train, Y_train, X_val, Y_val)\n",
        "print(\"Accuracy - \" + str(nn3.score(X_test,Y_test)))"
      ]
    },
    {
      "cell_type": "code",
      "execution_count": null,
      "metadata": {
        "id": "ndicu8iZdwzk"
      },
      "outputs": [],
      "source": [
        "import pickle\n",
        "\n",
        "plt.plot([x for x in range(1,len(nn3.train_loss) + 1)],nn3.train_loss, label = \"Training Loss \" )\n",
        "plt.plot([x for x in range(1,len(nn3.val_loss) + 1)],nn3.val_loss, label = \"Validation Loss \" )\n",
        "plt.xlabel('Epochs ')\n",
        "plt.ylabel('Loss')\n",
        "plt.legend()\n",
        "plt.title(\"sigmoid\")\n",
        "plt.show()\n",
        "\n",
        "file = open(\"Weights/sigmoid\", \"wb\")\n",
        "pickle.dump(nn3, file)\n",
        "file.close()"
      ]
    },
    {
      "cell_type": "markdown",
      "metadata": {
        "id": "Xnb-CFeLdwzm"
      },
      "source": [
        "### tanh"
      ]
    },
    {
      "cell_type": "code",
      "execution_count": null,
      "metadata": {
        "id": "ypFc_Pm_dwzm"
      },
      "outputs": [],
      "source": [
        "nn4 = NeuralNetwork(6, [784,256, 128, 64, 32,10], 'tanh', 0.08, 'normal', 128, 25)\n",
        "nn4.fit(X_train, Y_train, X_val, Y_val)\n",
        "print(\"Accuracy - \" + str(nn4.score(X_test,Y_test)))"
      ]
    },
    {
      "cell_type": "code",
      "execution_count": null,
      "metadata": {
        "id": "Mq3R1YqCdwzn"
      },
      "outputs": [],
      "source": [
        "import pickle\n",
        "\n",
        "plt.plot([x for x in range(1,len(nn4.train_loss) + 1)],nn4.train_loss, label = \"Training Loss \" )\n",
        "plt.plot([x for x in range(1,len(nn4.val_loss) + 1)],nn4.val_loss, label = \"Validation Loss \" )\n",
        "plt.xlabel('Epochs ')\n",
        "plt.ylabel('Loss')\n",
        "plt.legend()\n",
        "plt.title(\"tanh\")\n",
        "plt.show()\n",
        "\n",
        "file = open(\"Weights/tanh\", \"wb\")\n",
        "pickle.dump(nn4, file)\n",
        "file.close()"
      ]
    },
    {
      "cell_type": "markdown",
      "metadata": {
        "id": "eCBuiB2mdwzq"
      },
      "source": [
        "### Linear"
      ]
    },
    {
      "cell_type": "code",
      "execution_count": null,
      "metadata": {
        "id": "dwRauKs7dwzq"
      },
      "outputs": [],
      "source": [
        "nn5 = NeuralNetwork(6, [784,256, 128, 64, 32,10], 'linear', 0.08, 'normal', 128, 25)\n",
        "nn5.fit(X_train, Y_train, X_val, Y_val)\n",
        "print(\"Accuracy - \" + str(nn5.score(X_test,Y_test)))"
      ]
    },
    {
      "cell_type": "code",
      "execution_count": null,
      "metadata": {
        "id": "w0QMfCTHdwzr"
      },
      "outputs": [],
      "source": [
        "plt.plot([x for x in range(1,len(nn5.train_loss) + 1)], nn5.train_loss, label = \"Training Loss \" )\n",
        "plt.plot([x for x in range(1,len(nn5.val_loss) + 1)], nn5.val_loss, label = \"Validation Loss \" )\n",
        "plt.xlabel('Epochs ')\n",
        "plt.ylabel('Loss')\n",
        "plt.legend()\n",
        "plt.title(\"linear\")\n",
        "plt.show()\n",
        "\n",
        "file = open(\"Weights/linear\", \"wb\")\n",
        "pickle.dump(nn5, file)\n",
        "file.close()"
      ]
    },
    {
      "cell_type": "markdown",
      "metadata": {
        "id": "SO9tNXwgdwzs"
      },
      "source": [
        "### Softmax"
      ]
    },
    {
      "cell_type": "code",
      "execution_count": null,
      "metadata": {
        "id": "_mmd7xq4dwzt"
      },
      "outputs": [],
      "source": [
        "nn6 = NeuralNetwork(6, [784,256, 128, 64, 32,10], 'softmax', 0.08, 'normal', 128, 25)\n",
        "nn6.fit(X_train, Y_train, X_val, Y_val)\n",
        "print(\"Accuracy - \" + str(nn6.score(X_test,Y_test)))"
      ]
    },
    {
      "cell_type": "code",
      "execution_count": null,
      "metadata": {
        "id": "IiteRGlRdwzt"
      },
      "outputs": [],
      "source": [
        "plt.plot([x for x in range(1,len(nn6.train_loss) + 1)], nn6.train_loss, label = \"Training Loss \" )\n",
        "plt.plot([x for x in range(1,len(nn6.val_loss) + 1)], nn6.val_loss, label = \"Validation Loss \" )\n",
        "plt.xlabel('Epochs ')\n",
        "plt.ylabel('Loss')\n",
        "plt.legend()\n",
        "plt.title(\"softmax\")\n",
        "plt.show()\n",
        "\n",
        "file = open(\"Weights/softmax\", \"wb\")\n",
        "pickle.dump(nn6, file)\n",
        "file.close()"
      ]
    },
    {
      "cell_type": "code",
      "execution_count": null,
      "metadata": {
        "id": "fDTVBZ-hdwzv"
      },
      "outputs": [],
      "source": [
        "from sklearn.neural_network import MLPClassifier"
      ]
    },
    {
      "cell_type": "code",
      "execution_count": null,
      "metadata": {
        "id": "ECaZZ9ixdwzv"
      },
      "outputs": [],
      "source": [
        "clf1 = MLPClassifier(solver='lbfgs', alpha=0.08, hidden_layer_sizes=(256,128,64,32), random_state=1, activation = 'relu', max_iter=150, batch_size=200)\n",
        "clf1.fit(X_train, Y_train.ravel())"
      ]
    },
    {
      "cell_type": "code",
      "execution_count": null,
      "metadata": {
        "id": "nUJWBGRCdwzw"
      },
      "outputs": [],
      "source": [
        "score1 = clf1.score(X_test,Y_test)\n",
        "print(\"ReLU Accuracy : \", score1)"
      ]
    },
    {
      "cell_type": "code",
      "execution_count": null,
      "metadata": {
        "id": "thZkxqI8dwzx"
      },
      "outputs": [],
      "source": [
        "clf2 = MLPClassifier(solver='lbfgs', alpha=0.08, hidden_layer_sizes=(256,128,64,32), random_state=1, activation = 'logistic', max_iter=150, batch_size=200)\n",
        "clf2.fit(X_train, Y_train.ravel())"
      ]
    },
    {
      "cell_type": "code",
      "execution_count": null,
      "metadata": {
        "id": "MNOzmngXdwzy"
      },
      "outputs": [],
      "source": [
        "score2 = clf2.score(X_test,Y_test)\n",
        "print(\"sigmoid Accuracy : \", score2)"
      ]
    },
    {
      "cell_type": "code",
      "execution_count": null,
      "metadata": {
        "id": "iJKT1gHBdwzz"
      },
      "outputs": [],
      "source": [
        "clf3 = MLPClassifier(solver='lbfgs', alpha=0.08, hidden_layer_sizes=(256,128,64,32), random_state=1, activation = 'tanh', max_iter=150, batch_size=200)\n",
        "clf3.fit(X_train, Y_train.ravel())"
      ]
    },
    {
      "cell_type": "code",
      "execution_count": null,
      "metadata": {
        "id": "K6Ur4vQadwzz"
      },
      "outputs": [],
      "source": [
        "score3 = clf3.score(X_test,Y_test)\n",
        "print(\"Tanh Accuracy : \", score3)"
      ]
    },
    {
      "cell_type": "code",
      "execution_count": null,
      "metadata": {
        "id": "oeagzdJxdwz1"
      },
      "outputs": [],
      "source": [
        "clf4 = MLPClassifier(solver='lbfgs', alpha=0.08, hidden_layer_sizes=(256,128,64,32), random_state=1, activation = 'identity', batch_size=200)\n",
        "clf4.fit(X_train, Y_train.ravel())"
      ]
    },
    {
      "cell_type": "code",
      "execution_count": null,
      "metadata": {
        "id": "2qvayZ8Xdwz4"
      },
      "outputs": [],
      "source": [
        "score4 = clf4.score(X_test,Y_test)\n",
        "print(\"Linear Accuracy : \", score4)"
      ]
    },
    {
      "cell_type": "code",
      "execution_count": null,
      "metadata": {
        "id": "o0UyAQkadwz5"
      },
      "outputs": [],
      "source": []
    }
  ],
  "metadata": {
    "colab": {
      "provenance": []
    },
    "kernelspec": {
      "display_name": "Python 3.6.9 ('.env': venv)",
      "language": "python",
      "name": "python3"
    },
    "language_info": {
      "codemirror_mode": {
        "name": "ipython",
        "version": 3
      },
      "file_extension": ".py",
      "mimetype": "text/x-python",
      "name": "python",
      "nbconvert_exporter": "python",
      "pygments_lexer": "ipython3",
      "version": "3.8.0"
    },
    "orig_nbformat": 4,
    "vscode": {
      "interpreter": {
        "hash": "d9668fcc41e1ce838214f10c723fd65249829dd257fba636b92eab1c9c805b2c"
      }
    }
  },
  "nbformat": 4,
  "nbformat_minor": 0
}
