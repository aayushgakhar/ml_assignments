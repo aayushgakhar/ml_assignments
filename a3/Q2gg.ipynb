{
  "cells": [
    {
      "cell_type": "code",
      "execution_count": 1,
      "metadata": {
        "id": "x8KDZjREdwyS"
      },
      "outputs": [],
      "source": [
        "import pandas as pd\n",
        "import numpy as np\n",
        "import matplotlib.pyplot as plt\n",
        "import math\n",
        "from tqdm import tqdm\n",
        "from mlxtend.data import loadlocal_mnist\n"
      ]
    },
    {
      "cell_type": "code",
      "execution_count": null,
      "metadata": {
        "colab": {
          "base_uri": "https://localhost:8080/"
        },
        "id": "AHh_9WlFuzyf",
        "outputId": "405aabb9-7709-4773-d916-788d1a5fa6b1"
      },
      "outputs": [],
      "source": []
    },
    {
      "cell_type": "code",
      "execution_count": 2,
      "metadata": {
        "id": "qJ_hD671dwya"
      },
      "outputs": [],
      "source": [
        "def fn_split(data, size):\n",
        "    t = list(range(data.shape[0]))\n",
        "    np.random.shuffle(t)\n",
        "    return data[t[:int(size*data.shape[0])]], data[t[int(size*data.shape[0]):]]\n",
        "\n",
        "def fetch():\n",
        "\n",
        "    X_train, Y_train = loadlocal_mnist(\n",
        "        images_path='../data/mnist/train-images-idx3-ubyte', labels_path='../data/mnist/train-labels-idx1-ubyte')\n",
        "    X_test, Y_test = loadlocal_mnist(\n",
        "        images_path='../data/mnist/t10k-images-idx3-ubyte', labels_path='../data/mnist/t10k-labels-idx1-ubyte')\n",
        "\n",
        "    \n",
        "    X_train_new = np.empty((len(X_train), 784))\n",
        "    for i in range(0, len(X_train)):\n",
        "        X_train_new[i] = np.ravel(X_train[i])\n",
        "        \n",
        "    Y_train = Y_train.reshape((60000, 1))\n",
        "    \n",
        "    # print(Y_train.shape)\n",
        "        \n",
        "    X_test_new = np.empty((len(X_test), 784))\n",
        "    for i in range(0, len(X_test)):\n",
        "        X_test_new[i] = np.ravel(X_test[i])\n",
        "        \n",
        "    Y_test = Y_test.reshape((10000, 1))\n",
        "    \n",
        "    \n",
        "    X_train_new = X_train_new.reshape((60000, 784))\n",
        "    X_test_new = X_test_new.reshape((10000, 784))\n",
        "    data = np.append(X_train_new, X_test_new, axis = 0)\n",
        "    labels = np.append(Y_train, Y_test, axis = 0)\n",
        "    \n",
        "    final_data = np.append(data, labels, axis=1)\n",
        "    \n",
        "    train, val = fn_split(final_data, 0.7)\n",
        "    val, test = fn_split(val, 0.66)\n",
        "    train, train_labels = train[:, :-1], train[:,-1:]\n",
        "    val, val_labels = val[:, :-1], val[:,-1:]\n",
        "    test, test_labels = test[:, :-1], test[:,-1:]\n",
        "    \n",
        "    \n",
        "    return train, train_labels, test, test_labels, val, val_labels\n",
        "        \n",
        "X_train, Y_train, X_test, Y_test, X_val, Y_val =  fetch()\n",
        "# print(X_train.shape)\n",
        "# print(Y_train.shape)"
      ]
    },
    {
      "cell_type": "code",
      "execution_count": 3,
      "metadata": {
        "colab": {
          "base_uri": "https://localhost:8080/"
        },
        "id": "XNgHkhUSdwyc",
        "outputId": "e01db591-b1d2-43c7-a2f7-8a14526358f2"
      },
      "outputs": [
        {
          "data": {
            "text/plain": [
              "(49000, 1)"
            ]
          },
          "execution_count": 3,
          "metadata": {},
          "output_type": "execute_result"
        }
      ],
      "source": [
        "Y_train.shape"
      ]
    },
    {
      "cell_type": "code",
      "execution_count": 4,
      "metadata": {
        "id": "p5ZpsPhZdwyi"
      },
      "outputs": [],
      "source": [
        "class NeuralNetwork:\n",
        "\n",
        "    def __init__(self, n_layers, layer_sizes, activation, learning_rate, weight_init, batch_size, num_epochs):\n",
        "        self.n_layers = n_layers\n",
        "        self.layer_sizes = layer_sizes\n",
        "        self.activation = activation\n",
        "        self.learning_rate = learning_rate\n",
        "        self.weight_init = weight_init\n",
        "        self.batch_size = batch_size\n",
        "        self.num_epochs = num_epochs\n",
        "        \n",
        "    \n",
        "    def initializeWeights(self):\n",
        "        \n",
        "        layers = self.layer_sizes\n",
        "        # total_layers = len(self.layer_sizes)\n",
        "        params = {}\n",
        "        \n",
        "        L = self.n_layers\n",
        "        \n",
        "        for i in range(0, L-1):\n",
        "            \n",
        "            curr_layer = None\n",
        "            \n",
        "            if (self.weight_init == \"zero\"):\n",
        "                curr_layer = np.zeros((layers[i], layers[i+1]))\n",
        "                \n",
        "            elif (self.weight_init == \"random\"):\n",
        "                curr_layer = np.random.randn(layers[i], layers[i+1])*0.01\n",
        "                \n",
        "            elif (self.weight_init == \"normal\"):\n",
        "                curr_layer = np.random.normal(size = (layers[i], layers[i+1]))*0.01\n",
        "                \n",
        "            params[\"W\" + str(i+1)] = curr_layer\n",
        "            params[\"b\" + str(i+1)] = np.zeros((1,layers[i+1]))\n",
        "\n",
        "        self.parameters = params\n",
        "            \n",
        "        return params\n",
        "        \n",
        "    def activation_func(self, z):\n",
        "        \n",
        "        if (self.activation == \"ReLU\"):\n",
        "            return (z * (z>=0))\n",
        "            \n",
        "        elif (self.activation == \"Leaky ReLU\"):\n",
        "            return np.where(z > 0, z, z * 0.01)\n",
        "            \n",
        "        elif (self.activation == \"sigmoid\"):\n",
        "            return (1.0/(1+np.exp(-z)))\n",
        "        \n",
        "        elif (self.activation == \"linear\"):\n",
        "            return z\n",
        "            \n",
        "        elif (self.activation == \"tanh\"):\n",
        "            return np.tanh(z)\n",
        "            \n",
        "        elif (self.activation == \"softmax\"):\n",
        "            return np.exp(z) / np.sum(np.exp(z), axis=0)\n",
        "        \n",
        "    def activation_grad(self, y, activation=\"linear\"):\n",
        "        \n",
        "        if (self.activation == \"ReLU\"):\n",
        "            return 1*(y>=0)\n",
        "            \n",
        "        elif (self.activation == \"Leaky ReLU\"):\n",
        "            dy = np.ones_like(y)\n",
        "            dy[y < 0] = 0.01\n",
        "            return dy\n",
        "            \n",
        "        elif (self.activation == \"sigmoid\"):\n",
        "            return self.activation_func(y) * (1-self.activation_func(y))\n",
        "        \n",
        "        elif (self.activation == \"linear\"):\n",
        "            return np.ones(y.shape)\n",
        "            \n",
        "        elif (self.activation == \"tanh\"):\n",
        "            return self.activation_func(y) * (1-self.activation_func(y))\n",
        "            \n",
        "        elif (self.activation == \"softmax\"):\n",
        "            return self.activation_func(y) * (1-self.activation_func(y))\n",
        "        \n",
        "    \n",
        "    def forward_propogation(self, X, params):\n",
        "        \n",
        "        caches = {}\n",
        "        A = X\n",
        "        \n",
        "        # print(X.shape)\n",
        "        \n",
        "        L = len(params)//2\n",
        "        \n",
        "        for i in range(0, L-1):\n",
        "            \n",
        "            A_prev = A\n",
        "            Z = np.dot(A_prev, params[\"W\" + str(i+1)]) + params[\"b\" + str(i+1)]\n",
        "            \n",
        "            A = self.activation_func(Z)\n",
        "            \n",
        "            caches[str(i+1)] = (Z, A)\n",
        "            A_prev = A\n",
        "            \n",
        "        Z_l = np.dot(A_prev, params[\"W\" + str(L)]) + params[\"b\" + str(L)]\n",
        "        A_l = self.activation_func(Z_l)\n",
        "        \n",
        "        caches[str(L)] = (Z_l, A_l)\n",
        "        \n",
        "        return A_l, caches    \n",
        "        \n",
        "    \n",
        "    def backward_propogation(self, X, Y, caches):\n",
        "        \n",
        "        grads = {}\n",
        "        \n",
        "        L = self.n_layers - 1\n",
        "        Lx = len(X)\n",
        "        caches[str(0)] = (X, X)\n",
        "        \n",
        "        A = caches[str(L)][1]\n",
        "        \n",
        "        dZ = A-Y\n",
        "        \n",
        "        dW = np.dot(caches[str(L-1)][1].T, dZ) / Lx\n",
        "        db = np.sum(dZ, axis=0, keepdims=True) / Lx\n",
        "        \n",
        "        dA_prev = np.dot(dZ, self.parameters[\"W\" + str(L)].T)\n",
        "        \n",
        "        grads[\"dW\" + str(L)] = dW\n",
        "        grads[\"db\" + str(L)] = db\n",
        "        \n",
        "        for i in range(L - 1, 0, -1):\n",
        "            d_act = self.activation_grad(caches[str(i)][0])\n",
        "            \n",
        "            # print(dA_prev.shape)\n",
        "            # print(d_act.shape)\n",
        "            # dZ = np.matmul(dA_prev, d_act)\n",
        "            dZ = dA_prev * d_act\n",
        "            # print(dZ)\n",
        "            dW = np.dot(caches[str(i-1)][1].T, dZ) / Lx\n",
        "            db = np.sum(dZ, axis=0, keepdims=True) / Lx\n",
        "            \n",
        "            if i > 1:\n",
        "                dA_prev = np.dot(dZ, self.parameters[\"W\" + str(i)].T)\n",
        "\n",
        "            grads[\"dW\" + str(i)] = dW\n",
        "            grads[\"db\" + str(i)] = db\n",
        "                \n",
        "        self.update_weights(grads)        \n",
        "        \n",
        "        return grads\n",
        "    \n",
        "    \n",
        "    def update_weights(self, grads):\n",
        "        \n",
        "        L = self.n_layers\n",
        "        \n",
        "        for i in range(0, L-1):\n",
        "            self.parameters[\"W\" + str(i+1)] = self.parameters[\"W\" + str(i+1)] - self.learning_rate * grads[\"dW\" + str(i+1)]\n",
        "            self.parameters[\"b\" + str(i+1)] = self.parameters[\"b\" + str(i+1)] - self.learning_rate * grads[\"db\" + str(i+1)]\n",
        "            \n",
        "            \n",
        "    def labels_to_class(self, y):\n",
        "        m = len(y)\n",
        "        c = int(np.max(y))\n",
        "        y_classes = np.zeros((m,c+1))\n",
        "        for i in range(m):\n",
        "            l = int(y[i])\n",
        "            y_classes[i,l] = 1\n",
        "\n",
        "        return y_classes\n",
        "                    \n",
        "        \n",
        "      \n",
        "    def fittt(self, X, y , x_test=None, y_test=None):\n",
        "        y = self.labels_to_class(y)\n",
        "        \n",
        "        m , n_0 = X.shape\n",
        "        n_l = y.shape[1]\n",
        "\n",
        "        parameters = self.initializeWeights()\n",
        "        self.parameters = parameters\n",
        "\n",
        "        train_loss_history = []\n",
        "        train_accuracy_history = []\n",
        "        test_loss_history = []\n",
        "        test_accuracy_history = []\n",
        "\n",
        "        \n",
        "\n",
        "        for epoch in tqdm(range(self.num_epochs), desc = \"Progress Total : \", position = 0, leave = True):\n",
        "\n",
        "\n",
        "            n_batches = m//self.batch_size\n",
        "            X_batches = [X[self.batch_size*i:self.batch_size*(i+1),:] for i in range(0,n_batches)]\n",
        "            y_batches = [y[self.batch_size*i:self.batch_size*(i+1),:] for i in range(0,n_batches)]\n",
        "\n",
        "            train_batch_loss = []\n",
        "            test_batch_loss = []\n",
        "            train_batch_accuracy = []\n",
        "            test_batch_accuracy = []\n",
        "\n",
        "            for curr_x, curr_y in tqdm(zip(X_batches,y_batches), desc = \"Progress Epoch: \" + str(epoch+1) + \"/\" + str(self.num_epochs), position = 0, leave = True, total = len(X_batches)):\n",
        "                A, caches = self.forward_propogation(curr_x,parameters)\n",
        "\n",
        "                train_cost = self.cross_entropy_loss(A,curr_y)\n",
        "                train_batch_loss.append(train_cost)\n",
        "#                 print(A)\n",
        "                self.backward_propogation(curr_x,curr_y, caches)\n",
        "#                 train_batch_accuracy.append(self.score(curr_x,np.argmax(curr_y,axis = 1)))\n",
        "                if(x_test is not None):\n",
        "                    proba = self.predict_proba(x_test)\n",
        "#                     print(proba.shape)\n",
        "                    test_loss = self.cross_entropy_loss(proba, self.labels_to_class(y_test))\n",
        "                    test_batch_loss.append(test_loss)\n",
        "#                     test_batch_accuracy.append(self.score(x_test, y_test))\n",
        "                    \n",
        "#             print(\"Training Accuracy : \", np.array(train_batch_accuracy).mean())\n",
        "#             print(\"Validation Accuracy : \", np.array(test_batch_accuracy).mean())\n",
        "            print(\"Testing loss : \" ,np.array(test_batch_loss).mean())\n",
        "            print(\"Training Loss : \", np.array(train_batch_loss).mean())\n",
        "            \n",
        "\n",
        "\n",
        "            train_loss_history.append( np.array(train_batch_loss).mean())\n",
        "#             train_accuracy_history.append( np.array(train_batch_accuracy).mean())\n",
        "            test_loss_history.append( np.array(test_batch_loss).mean())\n",
        "#             test_accuracy_history.append(  np.array(test_batch_accuracy).mean())\n",
        "                \n",
        "                \n",
        "        \n",
        "        self.train_loss_history = train_loss_history\n",
        "        self.train_accuracy_history = train_accuracy_history\n",
        "        self.test_loss_history = test_loss_history\n",
        "        self.test_accuracy_history = test_accuracy_history\n",
        "        \n",
        "        \n",
        "        self.parameters = parameters\n",
        "\n",
        "\n",
        "        return self  \n",
        "        \n",
        "        \n",
        "    def fit (self, X_train, Y_train, X_val, Y_val):\n",
        "        \n",
        "        Y_train = self.labels_to_class(Y_train)\n",
        "        \n",
        "        m = X_train.shape[0]\n",
        "        no_batches = m//self.batch_size\n",
        "        datas=[]\n",
        "        for subset in range(0,no_batches):\n",
        "            mini_X = X_train[self.batch_size*subset : self.batch_size*(subset+1), :]\n",
        "            mini_Y = Y_train[self.batch_size*subset : self.batch_size*(subset+1), :]\n",
        "            datas.append((mini_X,mini_Y))\n",
        "        \n",
        "        \n",
        "        print(X_train.shape)\n",
        "        print(Y_train.shape)\n",
        "        print(X_test.shape)\n",
        "        print(Y_test.shape)\n",
        "        \n",
        "        params = self.initializeWeights()\n",
        "        \n",
        "        self.parameters = params\n",
        "        \n",
        "        train_loss = []\n",
        "        val_loss = []\n",
        "      \n",
        "        for epoch in range(1, self.num_epochs+1):\n",
        "            print(\"Epoch: \", epoch)\n",
        "            trainbatchloss = []\n",
        "            valbatchloss = []\n",
        "\n",
        "            for x_b, y_b in datas:\n",
        "                A_l, caches = self.forward_propogation(x_b,self.parameters)\n",
        "                train_cost = self.cross_entropy_loss(A_l, y_b)\n",
        "                trainbatchloss.append(train_cost)\n",
        "                self.backward_propogation(x_b,y_b, caches)\n",
        "                proba = self.predict_proba(X_val)\n",
        "                valloss = self.cross_entropy_loss(proba, self.labels_to_class(Y_val))\n",
        "                valbatchloss.append(valloss)\n",
        "\n",
        "            \n",
        "            l1 = np.array(trainbatchloss).mean()\n",
        "            l2 = np.array(valbatchloss).mean()\n",
        "\n",
        "\n",
        "            train_loss.append(l1)\n",
        "            val_loss.append(l2)\n",
        "            \n",
        "            print(\"Training loss : \" ,l1)\n",
        "            print(\"Validation Loss : \", l2)\n",
        "              \n",
        "              \n",
        "      \n",
        "        self.train_loss = train_loss\n",
        "        self.val_loss = val_loss\n",
        "        self.parameters = params\n",
        "  \n",
        "    \n",
        "     \n",
        "    def cross_entropy_loss(self, A_l, y_test):\n",
        "        \n",
        "        temp=A_l[np.arange(len(y_test)), y_test.argmax(axis=1)]\n",
        "        temp=np.where(temp>0.0000000000001,temp,0.000000000001)\n",
        "        logp = - np.log(temp)\n",
        "        celoss = np.sum(logp)/len(y_test)\n",
        "        return celoss\n",
        "        \n",
        "        \n",
        "        # m = len(y_test)\n",
        "        \n",
        "        # # logprods = np.dot(y_test, np.log(A_l).T) + np.dot((1-y_test), np.log(1-A_l).T)\n",
        "        # # cost = -1/n*np.sum(logprods)\n",
        "        \n",
        "        # logp = - np.log(1e-7 + A_l[np.arange(m), y_test.argmax(axis=1)])\n",
        "        # loss = np.sum(logp)/m\n",
        "        # return loss \n",
        "            \n",
        "    def predict_proba(self, X):\n",
        "        \n",
        "        prob, caches = self.forward_propogation(X, self.parameters)\n",
        "        \n",
        "        return prob\n",
        "    \n",
        "    def predict(self, X):\n",
        "        \n",
        "        prob = self.predict_proba(X)\n",
        "        Y_prediction = np.argmax(prob, axis = 1)\n",
        "        return Y_prediction\n",
        "    \n",
        "    def score(self, X, Y):\n",
        "        Y_prediction = self.predict(X)\n",
        "        count = 0\n",
        "        for i in range(len(Y)):    \n",
        "            if (Y_prediction[i] == Y[i]):\n",
        "                count+=1\n",
        "        return count/len(Y)\n",
        "        \n",
        "        # acc = (Y_prediction == Y)\n",
        "        # return acc.sum()/len(Y)\n",
        "    "
      ]
    },
    {
      "cell_type": "markdown",
      "metadata": {
        "id": "f_xUZW1Xdwym"
      },
      "source": [
        "### ReLU"
      ]
    },
    {
      "cell_type": "code",
      "execution_count": 5,
      "metadata": {
        "colab": {
          "base_uri": "https://localhost:8080/"
        },
        "id": "55qg_xRldwyr",
        "outputId": "ee15e359-bf9d-4c2a-89b8-3fe74365d3b2"
      },
      "outputs": [
        {
          "name": "stdout",
          "output_type": "stream",
          "text": [
            "(49000, 784)\n",
            "(49000, 10)\n",
            "(7140, 784)\n",
            "(7140, 1)\n",
            "Epoch:  1\n",
            "Training loss :  1.8853272765897888\n",
            "Validation Loss :  1.8400291182719766\n",
            "Epoch:  2\n",
            "Training loss :  0.5817296710219819\n",
            "Validation Loss :  0.5774784132972726\n",
            "Epoch:  3\n",
            "Training loss :  0.2918745812428881\n",
            "Validation Loss :  0.3198969495532745\n",
            "Epoch:  4\n",
            "Training loss :  0.20080991170047405\n",
            "Validation Loss :  0.2583331998016294\n",
            "Epoch:  5\n",
            "Training loss :  0.15244074258397375\n",
            "Validation Loss :  0.23498430025148526\n",
            "Epoch:  6\n",
            "Training loss :  0.1196579820122927\n",
            "Validation Loss :  0.23074232364053107\n",
            "Epoch:  7\n",
            "Training loss :  0.09480909502112302\n",
            "Validation Loss :  0.22723615837509728\n",
            "Epoch:  8\n",
            "Training loss :  0.07773562068959936\n",
            "Validation Loss :  0.22728163961671574\n",
            "Epoch:  9\n",
            "Training loss :  0.061252375507559645\n",
            "Validation Loss :  0.22709143160828013\n",
            "Epoch:  10\n",
            "Training loss :  0.04695841694354993\n",
            "Validation Loss :  0.22647756773054328\n",
            "Epoch:  11\n",
            "Training loss :  0.03639778363941637\n",
            "Validation Loss :  0.2310051659031009\n",
            "Epoch:  12\n",
            "Training loss :  0.030679046438003486\n",
            "Validation Loss :  0.23209667066767312\n",
            "Epoch:  13\n",
            "Training loss :  0.02500880155423726\n",
            "Validation Loss :  0.2345828454860739\n",
            "Epoch:  14\n",
            "Training loss :  0.021638351664998577\n",
            "Validation Loss :  0.23857463788736996\n",
            "Epoch:  15\n",
            "Training loss :  0.01708860985589452\n",
            "Validation Loss :  0.23064009947166766\n",
            "Epoch:  16\n",
            "Training loss :  0.01304413507025957\n",
            "Validation Loss :  0.2204530764143194\n",
            "Epoch:  17\n",
            "Training loss :  0.009057968863032798\n",
            "Validation Loss :  0.21383721777660772\n",
            "Epoch:  18\n",
            "Training loss :  0.008372342056677596\n",
            "Validation Loss :  0.20356734437133872\n",
            "Epoch:  19\n",
            "Training loss :  0.0064753456862028744\n",
            "Validation Loss :  0.19990415666779815\n",
            "Epoch:  20\n",
            "Training loss :  0.006348493665105241\n",
            "Validation Loss :  0.19368653591630414\n",
            "Epoch:  21\n",
            "Training loss :  0.0048520889558143635\n",
            "Validation Loss :  0.19344641910278484\n",
            "Epoch:  22\n",
            "Training loss :  0.004403475914567775\n",
            "Validation Loss :  0.19325545045605524\n",
            "Epoch:  23\n",
            "Training loss :  0.0035325372937556904\n",
            "Validation Loss :  0.18903771144917456\n",
            "Epoch:  24\n",
            "Training loss :  0.003228547858599114\n",
            "Validation Loss :  0.1863735842223631\n",
            "Epoch:  25\n",
            "Training loss :  0.0030061804072756796\n",
            "Validation Loss :  0.18622563222620686\n",
            "Accuracy - 0.9761904761904762\n"
          ]
        }
      ],
      "source": [
        "nn = NeuralNetwork(6, [784,256, 128, 64, 32,10], 'ReLU', 0.08, 'normal', 128, 25)\n",
        "\n",
        "\n",
        "nn.fit(X_train, Y_train, X_val, Y_val)\n",
        "\n",
        "print(\"Accuracy - \" + str(nn.score(X_test,Y_test)))"
      ]
    },
    {
      "cell_type": "code",
      "execution_count": 6,
      "metadata": {
        "id": "eW_RSnUTdwyx"
      },
      "outputs": [
        {
          "data": {
            "image/png": "[encoded data removed]",
            "text/plain": [
              "<Figure size 640x480 with 1 Axes>"
            ]
          },
          "metadata": {},
          "output_type": "display_data"
        }
      ],
      "source": [
        "\n",
        "plt.plot([x for x in range(1,len(nn.train_loss) + 1, 1)],nn.train_loss, label = \"Training Loss \" )\n",
        "plt.plot([x for x in range(1,len(nn.val_loss) + 1, 1)],nn.val_loss, label = \"Validation Loss \" )\n",
        "plt.xlabel('Epochs ')\n",
        "plt.ylabel('Loss')\n",
        "plt.legend()\n",
        "plt.title(\"ReLU\")\n",
        "plt.show()\n",
        "    "
      ]
    },
    {
      "cell_type": "code",
      "execution_count": 8,
      "metadata": {
        "id": "6JUHI21Fdwyz"
      },
      "outputs": [],
      "source": [
        "import pickle\n",
        "file = open(\"Weights/ReLU\", \"wb\")\n",
        "pickle.dump(nn, file)\n",
        "file.close()"
      ]
    },
    {
      "cell_type": "markdown",
      "metadata": {
        "id": "zojKEJuYdwzG"
      },
      "source": [
        "### Leaky ReLU"
      ]
    },
    {
      "cell_type": "code",
      "execution_count": 9,
      "metadata": {
        "id": "ZQ7_B5QhdwzN"
      },
      "outputs": [
        {
          "name": "stdout",
          "output_type": "stream",
          "text": [
            "(49000, 784)\n",
            "(49000, 10)\n",
            "(7140, 784)\n",
            "(7140, 1)\n",
            "Epoch:  1\n",
            "Training loss :  1.8401895975567581\n",
            "Validation Loss :  1.823751318389461\n",
            "Epoch:  2\n",
            "Training loss :  0.49551936098064264\n",
            "Validation Loss :  0.5006674554174075\n",
            "Epoch:  3\n",
            "Training loss :  0.2264669819507247\n",
            "Validation Loss :  0.2548016352239103\n",
            "Epoch:  4\n",
            "Training loss :  0.1529022163785127\n",
            "Validation Loss :  0.18976898439877357\n",
            "Epoch:  5\n",
            "Training loss :  0.11277528716615697\n",
            "Validation Loss :  0.16224501635900615\n",
            "Epoch:  6\n",
            "Training loss :  0.08543330032477671\n",
            "Validation Loss :  0.1508053373591177\n",
            "Epoch:  7\n",
            "Training loss :  0.06699854194438627\n",
            "Validation Loss :  0.14134691303476335\n",
            "Epoch:  8\n",
            "Training loss :  0.052223621780071165\n",
            "Validation Loss :  0.13549562145835267\n",
            "Epoch:  9\n",
            "Training loss :  0.04115009768874801\n",
            "Validation Loss :  0.13014987255213606\n",
            "Epoch:  10\n",
            "Training loss :  0.03421547486168171\n",
            "Validation Loss :  0.1284939259479261\n",
            "Epoch:  11\n",
            "Training loss :  0.030777327085206124\n",
            "Validation Loss :  0.12450417504958383\n",
            "Epoch:  12\n",
            "Training loss :  0.024014078231549177\n",
            "Validation Loss :  0.12221581917220133\n",
            "Epoch:  13\n",
            "Training loss :  0.020151432216161558\n",
            "Validation Loss :  0.11994139160191941\n",
            "Epoch:  14\n",
            "Training loss :  0.015691456403452\n",
            "Validation Loss :  0.11937091534506009\n",
            "Epoch:  15\n",
            "Training loss :  0.013893068288387985\n",
            "Validation Loss :  0.12110529736356739\n",
            "Epoch:  16\n",
            "Training loss :  0.011715584825350497\n",
            "Validation Loss :  0.12053947651859952\n",
            "Epoch:  17\n",
            "Training loss :  0.01015283756849285\n",
            "Validation Loss :  0.12088934522635368\n",
            "Epoch:  18\n",
            "Training loss :  0.008938007925351129\n",
            "Validation Loss :  0.12221668287865747\n",
            "Epoch:  19\n",
            "Training loss :  0.008355396628577061\n",
            "Validation Loss :  0.12124042430735363\n",
            "Epoch:  20\n",
            "Training loss :  0.009791427412793565\n",
            "Validation Loss :  0.12816617520569762\n",
            "Epoch:  21\n",
            "Training loss :  0.006944285178441777\n",
            "Validation Loss :  0.1184075902426555\n",
            "Epoch:  22\n",
            "Training loss :  0.012360415322797505\n",
            "Validation Loss :  0.12351489369050012\n",
            "Epoch:  23\n",
            "Training loss :  0.012247057065266746\n",
            "Validation Loss :  0.13091465351647993\n",
            "Epoch:  24\n",
            "Training loss :  0.0052765594542138914\n",
            "Validation Loss :  0.11733422311850417\n",
            "Epoch:  25\n",
            "Training loss :  0.004702191559619844\n",
            "Validation Loss :  0.11576322032843249\n",
            "Accuracy - 0.9781512605042016\n"
          ]
        }
      ],
      "source": [
        "nn2 = NeuralNetwork(6, [784,256, 128, 64, 32,10], 'Leaky ReLU', 0.08, 'normal', 128, 25)\n",
        "\n",
        "\n",
        "nn2.fit(X_train, Y_train, X_val, Y_val)\n",
        "\n",
        "print(\"Accuracy - \" + str(nn2.score(X_test,Y_test)))"
      ]
    },
    {
      "cell_type": "code",
      "execution_count": 10,
      "metadata": {
        "id": "QRBpDmQmdwzf"
      },
      "outputs": [
        {
          "data": {
            "image/png": "[encoded data removed]",
            "text/plain": [
              "<Figure size 640x480 with 1 Axes>"
            ]
          },
          "metadata": {},
          "output_type": "display_data"
        }
      ],
      "source": [
        "import pickle\n",
        "\n",
        "plt.plot([x for x in range(1,len(nn2.train_loss) + 1)],nn2.train_loss, label = \"Training Loss \" )\n",
        "plt.plot([x for x in range(1,len(nn2.val_loss) + 1)],nn2.val_loss, label = \"Validation Loss \" )\n",
        "plt.xlabel('Epochs ')\n",
        "plt.ylabel('Loss')\n",
        "plt.legend()\n",
        "plt.title(\"Leaky ReLU\")\n",
        "plt.show()\n",
        "\n",
        "file = open(\"Weights/Leaky_ReLU\", \"wb\")\n",
        "pickle.dump(nn2, file)\n",
        "file.close()"
      ]
    },
    {
      "cell_type": "markdown",
      "metadata": {
        "id": "Qqx5ouS2dwzi"
      },
      "source": [
        "### Sigmoid"
      ]
    },
    {
      "cell_type": "code",
      "execution_count": 11,
      "metadata": {
        "id": "PVbhqD-Mdwzj"
      },
      "outputs": [
        {
          "name": "stdout",
          "output_type": "stream",
          "text": [
            "(49000, 784)\n",
            "(49000, 10)\n",
            "(7140, 784)\n",
            "(7140, 1)\n",
            "Epoch:  1\n",
            "Training loss :  2.2640103646836742\n",
            "Validation Loss :  2.2681793037911913\n",
            "Epoch:  2\n",
            "Training loss :  2.3024346559552913\n",
            "Validation Loss :  2.30245985322087\n",
            "Epoch:  3\n",
            "Training loss :  2.3024115781781034\n",
            "Validation Loss :  2.3024345111117506\n",
            "Epoch:  4\n",
            "Training loss :  2.3023890222280823\n",
            "Validation Loss :  2.3024097261436705\n",
            "Epoch:  5\n",
            "Training loss :  2.3023669780565563\n",
            "Validation Loss :  2.302385488556174\n",
            "Epoch:  6\n",
            "Training loss :  2.3023454355995265\n",
            "Validation Loss :  2.3023617884921475\n",
            "Epoch:  7\n",
            "Training loss :  2.302324384806526\n",
            "Validation Loss :  2.302338616031642\n",
            "Epoch:  8\n",
            "Training loss :  2.3023038156656983\n",
            "Validation Loss :  2.3023159612218596\n",
            "Epoch:  9\n",
            "Training loss :  2.302283718225467\n",
            "Validation Loss :  2.302293814103684\n",
            "Epoch:  10\n",
            "Training loss :  2.302264082613103\n",
            "Validation Loss :  2.3022721647350766\n",
            "Epoch:  11\n",
            "Training loss :  2.302244899050525\n",
            "Validation Loss :  2.3022510032116354\n",
            "Epoch:  12\n",
            "Training loss :  2.302226157867615\n",
            "Validation Loss :  2.3022303196846026\n",
            "Epoch:  13\n",
            "Training loss :  2.302207849513327\n",
            "Validation Loss :  2.302210104376544\n",
            "Epoch:  14\n",
            "Training loss :  2.302189964564834\n",
            "Validation Loss :  2.3021903475949372\n",
            "Epoch:  15\n",
            "Training loss :  2.3021724937349535\n",
            "Validation Loss :  2.3021710397438504\n",
            "Epoch:  16\n",
            "Training loss :  2.302155427878042\n",
            "Validation Loss :  2.302152171333908\n",
            "Epoch:  17\n",
            "Training loss :  2.30213875799457\n",
            "Validation Loss :  2.302133732990699\n",
            "Epoch:  18\n",
            "Training loss :  2.302122475234534\n",
            "Validation Loss :  2.3021157154617997\n",
            "Epoch:  19\n",
            "Training loss :  2.302106570899866\n",
            "Validation Loss :  2.302098109622548\n",
            "Epoch:  20\n",
            "Training loss :  2.3020910364459763\n",
            "Validation Loss :  2.302080906480714\n",
            "Epoch:  21\n",
            "Training loss :  2.3020758634825627\n",
            "Validation Loss :  2.3020640971801987\n",
            "Epoch:  22\n",
            "Training loss :  2.3020610437737807\n",
            "Validation Loss :  2.3020476730038726\n",
            "Epoch:  23\n",
            "Training loss :  2.3020465692378878\n",
            "Validation Loss :  2.302031625375679\n",
            "Epoch:  24\n",
            "Training loss :  2.302032431946441\n",
            "Validation Loss :  2.30201594586208\n",
            "Epoch:  25\n",
            "Training loss :  2.3020186241231193\n",
            "Validation Loss :  2.3020006261729495\n",
            "Accuracy - 0.11554621848739496\n"
          ]
        }
      ],
      "source": [
        "nn3 = NeuralNetwork(6, [784,256, 128, 64, 32,10], 'sigmoid', 0.08, 'normal', 128, 25)\n",
        "nn3.fit(X_train, Y_train, X_val, Y_val)\n",
        "print(\"Accuracy - \" + str(nn3.score(X_test,Y_test)))"
      ]
    },
    {
      "cell_type": "code",
      "execution_count": 12,
      "metadata": {
        "id": "ndicu8iZdwzk"
      },
      "outputs": [
        {
          "data": {
            "image/png": "[encoded data removed]",
            "text/plain": [
              "<Figure size 640x480 with 1 Axes>"
            ]
          },
          "metadata": {},
          "output_type": "display_data"
        }
      ],
      "source": [
        "import pickle\n",
        "\n",
        "plt.plot([x for x in range(1,len(nn3.train_loss) + 1)],nn3.train_loss, label = \"Training Loss \" )\n",
        "plt.plot([x for x in range(1,len(nn3.val_loss) + 1)],nn3.val_loss, label = \"Validation Loss \" )\n",
        "plt.xlabel('Epochs ')\n",
        "plt.ylabel('Loss')\n",
        "plt.legend()\n",
        "plt.title(\"sigmoid\")\n",
        "plt.show()\n",
        "\n",
        "file = open(\"Weights/sigmoid\", \"wb\")\n",
        "pickle.dump(nn3, file)\n",
        "file.close()"
      ]
    },
    {
      "cell_type": "markdown",
      "metadata": {
        "id": "Xnb-CFeLdwzm"
      },
      "source": [
        "### tanh"
      ]
    },
    {
      "cell_type": "code",
      "execution_count": 13,
      "metadata": {
        "id": "ypFc_Pm_dwzm"
      },
      "outputs": [
        {
          "name": "stdout",
          "output_type": "stream",
          "text": [
            "(49000, 784)\n",
            "(49000, 10)\n",
            "(7140, 784)\n",
            "(7140, 1)\n",
            "Epoch:  1\n",
            "Training loss :  2.391156602100609\n",
            "Validation Loss :  2.349119937594277\n",
            "Epoch:  2\n",
            "Training loss :  2.302470452992281\n",
            "Validation Loss :  2.3024878461417075\n",
            "Epoch:  3\n",
            "Training loss :  2.3022682647085486\n",
            "Validation Loss :  2.3022838793812688\n",
            "Epoch:  4\n",
            "Training loss :  2.30206622559188\n",
            "Validation Loss :  2.302080066743674\n",
            "Epoch:  5\n",
            "Training loss :  2.3018643375746954\n",
            "Validation Loss :  2.301876410627653\n",
            "Epoch:  6\n",
            "Training loss :  2.3016625871747505\n",
            "Validation Loss :  2.3016728978299748\n",
            "Epoch:  7\n",
            "Training loss :  2.3014609399214105\n",
            "Validation Loss :  2.301469493910906\n",
            "Epoch:  8\n",
            "Training loss :  2.3012593348605623\n",
            "Validation Loss :  2.301266137640122\n",
            "Epoch:  9\n",
            "Training loss :  2.3010576791330197\n",
            "Validation Loss :  2.3010627355178723\n",
            "Epoch:  10\n",
            "Training loss :  2.30085584260945\n",
            "Validation Loss :  2.3008591563542047\n",
            "Epoch:  11\n",
            "Training loss :  2.300653652550957\n",
            "Validation Loss :  2.300655225874933\n",
            "Epoch:  12\n",
            "Training loss :  2.300450888248632\n",
            "Validation Loss :  2.300450721307015\n",
            "Epoch:  13\n",
            "Training loss :  2.3002472755777625\n",
            "Validation Loss :  2.300245365878107\n",
            "Epoch:  14\n",
            "Training loss :  2.300042481382898\n",
            "Validation Loss :  2.3000388231452953\n",
            "Epoch:  15\n",
            "Training loss :  2.2998361075885616\n",
            "Validation Loss :  2.2998306910463318\n",
            "Epoch:  16\n",
            "Training loss :  2.299627684906746\n",
            "Validation Loss :  2.29962049554264\n",
            "Epoch:  17\n",
            "Training loss :  2.2994166659859876\n",
            "Validation Loss :  2.299407683696708\n",
            "Epoch:  18\n",
            "Training loss :  2.2992024178171713\n",
            "Validation Loss :  2.299191615996331\n",
            "Epoch:  19\n",
            "Training loss :  2.298984213177242\n",
            "Validation Loss :  2.2989715577036804\n",
            "Epoch:  20\n",
            "Training loss :  2.2987612208525876\n",
            "Validation Loss :  2.2987466689671257\n",
            "Epoch:  21\n",
            "Training loss :  2.2985324943373584\n",
            "Validation Loss :  2.298515993386395\n",
            "Epoch:  22\n",
            "Training loss :  2.2982969586464366\n",
            "Validation Loss :  2.2982784446651277\n",
            "Epoch:  23\n",
            "Training loss :  2.2980533948156645\n",
            "Validation Loss :  2.2980327909164244\n",
            "Epoch:  24\n",
            "Training loss :  2.29780042158012\n",
            "Validation Loss :  2.297777636103567\n",
            "Epoch:  25\n",
            "Training loss :  2.297536473620859\n",
            "Validation Loss :  2.2975113979954918\n",
            "Accuracy - 0.11554621848739496\n"
          ]
        }
      ],
      "source": [
        "nn4 = NeuralNetwork(6, [784,256, 128, 64, 32,10], 'tanh', 0.08, 'normal', 128, 25)\n",
        "nn4.fit(X_train, Y_train, X_val, Y_val)\n",
        "print(\"Accuracy - \" + str(nn4.score(X_test,Y_test)))"
      ]
    },
    {
      "cell_type": "code",
      "execution_count": 14,
      "metadata": {
        "id": "Mq3R1YqCdwzn"
      },
      "outputs": [
        {
          "data": {
            "image/png": "[encoded data removed]",
            "text/plain": [
              "<Figure size 640x480 with 1 Axes>"
            ]
          },
          "metadata": {},
          "output_type": "display_data"
        }
      ],
      "source": [
        "import pickle\n",
        "\n",
        "plt.plot([x for x in range(1,len(nn4.train_loss) + 1)],nn4.train_loss, label = \"Training Loss \" )\n",
        "plt.plot([x for x in range(1,len(nn4.val_loss) + 1)],nn4.val_loss, label = \"Validation Loss \" )\n",
        "plt.xlabel('Epochs ')\n",
        "plt.ylabel('Loss')\n",
        "plt.legend()\n",
        "plt.title(\"tanh\")\n",
        "plt.show()\n",
        "\n",
        "file = open(\"Weights/tanh\", \"wb\")\n",
        "pickle.dump(nn4, file)\n",
        "file.close()"
      ]
    },
    {
      "cell_type": "markdown",
      "metadata": {
        "id": "eCBuiB2mdwzq"
      },
      "source": [
        "### Linear"
      ]
    },
    {
      "cell_type": "code",
      "execution_count": 15,
      "metadata": {
        "id": "dwRauKs7dwzq"
      },
      "outputs": [
        {
          "name": "stdout",
          "output_type": "stream",
          "text": [
            "(49000, 784)\n",
            "(49000, 10)\n",
            "(7140, 784)\n",
            "(7140, 1)\n",
            "Epoch:  1\n",
            "Training loss :  1.1736191433930088\n",
            "Validation Loss :  1.1170409640335635\n",
            "Epoch:  2\n",
            "Training loss :  0.8483786528893893\n",
            "Validation Loss :  0.8297437127602628\n",
            "Epoch:  3\n",
            "Training loss :  0.8308151010974072\n",
            "Validation Loss :  0.8146588236612934\n",
            "Epoch:  4\n",
            "Training loss :  0.8216116477778629\n",
            "Validation Loss :  0.8067746576843017\n",
            "Epoch:  5\n",
            "Training loss :  0.8154209167872208\n",
            "Validation Loss :  0.8021190835916362\n",
            "Epoch:  6\n",
            "Training loss :  0.8104908425192329\n",
            "Validation Loss :  0.7986852773315293\n",
            "Epoch:  7\n",
            "Training loss :  0.8038117737078954\n",
            "Validation Loss :  0.7959924767203141\n",
            "Epoch:  8\n",
            "Training loss :  0.8016538578573172\n",
            "Validation Loss :  0.7939873392200268\n",
            "Epoch:  9\n",
            "Training loss :  0.8007970688531302\n",
            "Validation Loss :  0.7924836585130235\n",
            "Epoch:  10\n",
            "Training loss :  0.7998532329657367\n",
            "Validation Loss :  0.791092070625186\n",
            "Epoch:  11\n",
            "Training loss :  0.7986243503003169\n",
            "Validation Loss :  0.7900327894902234\n",
            "Epoch:  12\n",
            "Training loss :  0.796073875485286\n",
            "Validation Loss :  0.7892156673617033\n",
            "Epoch:  13\n",
            "Training loss :  0.7954870074355139\n",
            "Validation Loss :  0.7884166416200489\n",
            "Epoch:  14\n",
            "Training loss :  0.7943103945084103\n",
            "Validation Loss :  0.787749774491078\n",
            "Epoch:  15\n",
            "Training loss :  0.7923747085675176\n",
            "Validation Loss :  0.7872077334875248\n",
            "Epoch:  16\n",
            "Training loss :  0.791686232885794\n",
            "Validation Loss :  0.7867033183657236\n",
            "Epoch:  17\n",
            "Training loss :  0.7907528782949612\n",
            "Validation Loss :  0.7863386988027585\n",
            "Epoch:  18\n",
            "Training loss :  0.7898188462076743\n",
            "Validation Loss :  0.785919386358014\n",
            "Epoch:  19\n",
            "Training loss :  0.7893703316690717\n",
            "Validation Loss :  0.7855334265219543\n",
            "Epoch:  20\n",
            "Training loss :  0.7885725238765832\n",
            "Validation Loss :  0.7852821198308744\n",
            "Epoch:  21\n",
            "Training loss :  0.7877181814717605\n",
            "Validation Loss :  0.7849971865191177\n",
            "Epoch:  22\n",
            "Training loss :  0.7866059539622258\n",
            "Validation Loss :  0.7848105246433\n",
            "Epoch:  23\n",
            "Training loss :  0.7861555872833561\n",
            "Validation Loss :  0.7845696770782694\n",
            "Epoch:  24\n",
            "Training loss :  0.7854318663801388\n",
            "Validation Loss :  0.7842775037781712\n",
            "Epoch:  25\n",
            "Training loss :  0.7847059743116024\n",
            "Validation Loss :  0.7840394940504649\n",
            "Accuracy - 0.8477591036414566\n"
          ]
        }
      ],
      "source": [
        "nn5 = NeuralNetwork(6, [784,256, 128, 64, 32,10], 'linear', 0.08, 'normal', 128, 25)\n",
        "nn5.fit(X_train, Y_train, X_val, Y_val)\n",
        "print(\"Accuracy - \" + str(nn5.score(X_test,Y_test)))"
      ]
    },
    {
      "cell_type": "code",
      "execution_count": 16,
      "metadata": {
        "id": "w0QMfCTHdwzr"
      },
      "outputs": [
        {
          "data": {
            "image/png": "[encoded data removed]",
            "text/plain": [
              "<Figure size 640x480 with 1 Axes>"
            ]
          },
          "metadata": {},
          "output_type": "display_data"
        }
      ],
      "source": [
        "plt.plot([x for x in range(1,len(nn5.train_loss) + 1)], nn5.train_loss, label = \"Training Loss \" )\n",
        "plt.plot([x for x in range(1,len(nn5.val_loss) + 1)], nn5.val_loss, label = \"Validation Loss \" )\n",
        "plt.xlabel('Epochs ')\n",
        "plt.ylabel('Loss')\n",
        "plt.legend()\n",
        "plt.title(\"linear\")\n",
        "plt.show()\n",
        "\n",
        "file = open(\"Weights/linear\", \"wb\")\n",
        "pickle.dump(nn5, file)\n",
        "file.close()"
      ]
    },
    {
      "cell_type": "markdown",
      "metadata": {
        "id": "SO9tNXwgdwzs"
      },
      "source": [
        "### Softmax"
      ]
    },
    {
      "cell_type": "code",
      "execution_count": 17,
      "metadata": {
        "id": "_mmd7xq4dwzt"
      },
      "outputs": [
        {
          "name": "stdout",
          "output_type": "stream",
          "text": [
            "(49000, 784)\n",
            "(49000, 10)\n",
            "(7140, 784)\n",
            "(7140, 1)\n",
            "Epoch:  1\n",
            "Training loss :  4.8520302639196045\n",
            "Validation Loss :  9.536762272743893\n",
            "Epoch:  2\n",
            "Training loss :  4.852030263919623\n",
            "Validation Loss :  9.536762272743896\n",
            "Epoch:  3\n",
            "Training loss :  4.852030263919644\n",
            "Validation Loss :  9.536762272743896\n",
            "Epoch:  4\n",
            "Training loss :  4.852030263919669\n",
            "Validation Loss :  9.536762272743895\n",
            "Epoch:  5\n",
            "Training loss :  4.852030263919699\n",
            "Validation Loss :  9.536762272743895\n",
            "Epoch:  6\n",
            "Training loss :  4.852030263919735\n",
            "Validation Loss :  9.536762272743891\n",
            "Epoch:  7\n",
            "Training loss :  4.8520302639197785\n",
            "Validation Loss :  9.536762272743896\n",
            "Epoch:  8\n",
            "Training loss :  4.852030263919833\n",
            "Validation Loss :  9.536762272743893\n",
            "Epoch:  9\n",
            "Training loss :  4.852030263919895\n",
            "Validation Loss :  9.536762272743893\n",
            "Epoch:  10\n",
            "Training loss :  4.8520302639199695\n",
            "Validation Loss :  9.536762272743893\n",
            "Epoch:  11\n",
            "Training loss :  4.852030263920057\n",
            "Validation Loss :  9.536762272743896\n",
            "Epoch:  12\n",
            "Training loss :  4.852030263920159\n",
            "Validation Loss :  9.536762272743895\n",
            "Epoch:  13\n",
            "Training loss :  4.852030263920277\n",
            "Validation Loss :  9.536762272743891\n",
            "Epoch:  14\n",
            "Training loss :  4.852030263920412\n",
            "Validation Loss :  9.536762272743891\n",
            "Epoch:  15\n",
            "Training loss :  4.852030263920564\n",
            "Validation Loss :  9.536762272743896\n",
            "Epoch:  16\n",
            "Training loss :  4.852030263920736\n",
            "Validation Loss :  9.536762272743891\n",
            "Epoch:  17\n",
            "Training loss :  4.852030263920929\n",
            "Validation Loss :  9.536762272743893\n",
            "Epoch:  18\n",
            "Training loss :  4.852030263921144\n",
            "Validation Loss :  9.536762272743895\n",
            "Epoch:  19\n",
            "Training loss :  4.852030263921382\n",
            "Validation Loss :  9.536762272743895\n",
            "Epoch:  20\n",
            "Training loss :  4.852030263921644\n",
            "Validation Loss :  9.5367622727439\n",
            "Epoch:  21\n",
            "Training loss :  4.852030263921933\n",
            "Validation Loss :  9.536762272743896\n",
            "Epoch:  22\n",
            "Training loss :  4.85203026392225\n",
            "Validation Loss :  9.536762272743891\n",
            "Epoch:  23\n",
            "Training loss :  4.852030263922593\n",
            "Validation Loss :  9.536762272743896\n",
            "Epoch:  24\n",
            "Training loss :  4.852030263922967\n",
            "Validation Loss :  9.536762272743895\n",
            "Epoch:  25\n",
            "Training loss :  4.852030263923371\n",
            "Validation Loss :  9.53676227274389\n",
            "Accuracy - 0.11554621848739496\n"
          ]
        }
      ],
      "source": [
        "nn6 = NeuralNetwork(6, [784,256, 128, 64, 32,10], 'softmax', 0.08, 'normal', 128, 25)\n",
        "nn6.fit(X_train, Y_train, X_val, Y_val)\n",
        "print(\"Accuracy - \" + str(nn6.score(X_test,Y_test)))"
      ]
    },
    {
      "cell_type": "code",
      "execution_count": 18,
      "metadata": {
        "id": "IiteRGlRdwzt"
      },
      "outputs": [
        {
          "data": {
            "image/png": "[encoded data removed]",
            "text/plain": [
              "<Figure size 640x480 with 1 Axes>"
            ]
          },
          "metadata": {},
          "output_type": "display_data"
        }
      ],
      "source": [
        "plt.plot([x for x in range(1,len(nn6.train_loss) + 1)], nn6.train_loss, label = \"Training Loss \" )\n",
        "plt.plot([x for x in range(1,len(nn6.val_loss) + 1)], nn6.val_loss, label = \"Validation Loss \" )\n",
        "plt.xlabel('Epochs ')\n",
        "plt.ylabel('Loss')\n",
        "plt.legend()\n",
        "plt.title(\"softmax\")\n",
        "plt.show()\n",
        "\n",
        "file = open(\"Weights/softmax\", \"wb\")\n",
        "pickle.dump(nn6, file)\n",
        "file.close()"
      ]
    },
    {
      "cell_type": "code",
      "execution_count": 19,
      "metadata": {
        "id": "fDTVBZ-hdwzv"
      },
      "outputs": [],
      "source": [
        "from sklearn.neural_network import MLPClassifier"
      ]
    },
    {
      "cell_type": "code",
      "execution_count": 20,
      "metadata": {
        "id": "ECaZZ9ixdwzv"
      },
      "outputs": [
        {
          "name": "stderr",
          "output_type": "stream",
          "text": [
            "/home/aayush/ml/.env/lib/python3.8/site-packages/sklearn/neural_network/_multilayer_perceptron.py:559: ConvergenceWarning: lbfgs failed to converge (status=1):\n",
            "STOP: TOTAL NO. of ITERATIONS REACHED LIMIT.\n",
            "\n",
            "Increase the number of iterations (max_iter) or scale the data as shown in:\n",
            "    https://scikit-learn.org/stable/modules/preprocessing.html\n",
            "  self.n_iter_ = _check_optimize_result(\"lbfgs\", opt_res, self.max_iter)\n"
          ]
        },
        {
          "data": {
            "text/html": [
              "<style>#sk-container-id-1 {color: black;background-color: white;}#sk-container-id-1 pre{padding: 0;}#sk-container-id-1 div.sk-toggleable {background-color: white;}#sk-container-id-1 label.sk-toggleable__label {cursor: pointer;display: block;width: 100%;margin-bottom: 0;padding: 0.3em;box-sizing: border-box;text-align: center;}#sk-container-id-1 label.sk-toggleable__label-arrow:before {content: \"▸\";float: left;margin-right: 0.25em;color: #696969;}#sk-container-id-1 label.sk-toggleable__label-arrow:hover:before {color: black;}#sk-container-id-1 div.sk-estimator:hover label.sk-toggleable__label-arrow:before {color: black;}#sk-container-id-1 div.sk-toggleable__content {max-height: 0;max-width: 0;overflow: hidden;text-align: left;background-color: #f0f8ff;}#sk-container-id-1 div.sk-toggleable__content pre {margin: 0.2em;color: black;border-radius: 0.25em;background-color: #f0f8ff;}#sk-container-id-1 input.sk-toggleable__control:checked~div.sk-toggleable__content {max-height: 200px;max-width: 100%;overflow: auto;}#sk-container-id-1 input.sk-toggleable__control:checked~label.sk-toggleable__label-arrow:before {content: \"▾\";}#sk-container-id-1 div.sk-estimator input.sk-toggleable__control:checked~label.sk-toggleable__label {background-color: #d4ebff;}#sk-container-id-1 div.sk-label input.sk-toggleable__control:checked~label.sk-toggleable__label {background-color: #d4ebff;}#sk-container-id-1 input.sk-hidden--visually {border: 0;clip: rect(1px 1px 1px 1px);clip: rect(1px, 1px, 1px, 1px);height: 1px;margin: -1px;overflow: hidden;padding: 0;position: absolute;width: 1px;}#sk-container-id-1 div.sk-estimator {font-family: monospace;background-color: #f0f8ff;border: 1px dotted black;border-radius: 0.25em;box-sizing: border-box;margin-bottom: 0.5em;}#sk-container-id-1 div.sk-estimator:hover {background-color: #d4ebff;}#sk-container-id-1 div.sk-parallel-item::after {content: \"\";width: 100%;border-bottom: 1px solid gray;flex-grow: 1;}#sk-container-id-1 div.sk-label:hover label.sk-toggleable__label {background-color: #d4ebff;}#sk-container-id-1 div.sk-serial::before {content: \"\";position: absolute;border-left: 1px solid gray;box-sizing: border-box;top: 0;bottom: 0;left: 50%;z-index: 0;}#sk-container-id-1 div.sk-serial {display: flex;flex-direction: column;align-items: center;background-color: white;padding-right: 0.2em;padding-left: 0.2em;position: relative;}#sk-container-id-1 div.sk-item {position: relative;z-index: 1;}#sk-container-id-1 div.sk-parallel {display: flex;align-items: stretch;justify-content: center;background-color: white;position: relative;}#sk-container-id-1 div.sk-item::before, #sk-container-id-1 div.sk-parallel-item::before {content: \"\";position: absolute;border-left: 1px solid gray;box-sizing: border-box;top: 0;bottom: 0;left: 50%;z-index: -1;}#sk-container-id-1 div.sk-parallel-item {display: flex;flex-direction: column;z-index: 1;position: relative;background-color: white;}#sk-container-id-1 div.sk-parallel-item:first-child::after {align-self: flex-end;width: 50%;}#sk-container-id-1 div.sk-parallel-item:last-child::after {align-self: flex-start;width: 50%;}#sk-container-id-1 div.sk-parallel-item:only-child::after {width: 0;}#sk-container-id-1 div.sk-dashed-wrapped {border: 1px dashed gray;margin: 0 0.4em 0.5em 0.4em;box-sizing: border-box;padding-bottom: 0.4em;background-color: white;}#sk-container-id-1 div.sk-label label {font-family: monospace;font-weight: bold;display: inline-block;line-height: 1.2em;}#sk-container-id-1 div.sk-label-container {text-align: center;}#sk-container-id-1 div.sk-container {/* jupyter's `normalize.less` sets `[hidden] { display: none; }` but bootstrap.min.css set `[hidden] { display: none !important; }` so we also need the `!important` here to be able to override the default hidden behavior on the sphinx rendered scikit-learn.org. See: https://github.com/scikit-learn/scikit-learn/issues/21755 */display: inline-block !important;position: relative;}#sk-container-id-1 div.sk-text-repr-fallback {display: none;}</style><div id=\"sk-container-id-1\" class=\"sk-top-container\"><div class=\"sk-text-repr-fallback\"><pre>MLPClassifier(alpha=0.08, batch_size=200, hidden_layer_sizes=(256, 128, 64, 32),\n",
              "              max_iter=150, random_state=1, solver=&#x27;lbfgs&#x27;)</pre><b>In a Jupyter environment, please rerun this cell to show the HTML representation or trust the notebook. <br />On GitHub, the HTML representation is unable to render, please try loading this page with nbviewer.org.</b></div><div class=\"sk-container\" hidden><div class=\"sk-item\"><div class=\"sk-estimator sk-toggleable\"><input class=\"sk-toggleable__control sk-hidden--visually\" id=\"sk-estimator-id-1\" type=\"checkbox\" checked><label for=\"sk-estimator-id-1\" class=\"sk-toggleable__label sk-toggleable__label-arrow\">MLPClassifier</label><div class=\"sk-toggleable__content\"><pre>MLPClassifier(alpha=0.08, batch_size=200, hidden_layer_sizes=(256, 128, 64, 32),\n",
              "              max_iter=150, random_state=1, solver=&#x27;lbfgs&#x27;)</pre></div></div></div></div></div>"
            ],
            "text/plain": [
              "MLPClassifier(alpha=0.08, batch_size=200, hidden_layer_sizes=(256, 128, 64, 32),\n",
              "              max_iter=150, random_state=1, solver='lbfgs')"
            ]
          },
          "execution_count": 20,
          "metadata": {},
          "output_type": "execute_result"
        }
      ],
      "source": [
        "clf1 = MLPClassifier(solver='lbfgs', alpha=0.08, hidden_layer_sizes=(256,128,64,32), random_state=1, activation = 'relu', max_iter=150, batch_size=200)\n",
        "clf1.fit(X_train, Y_train.ravel())"
      ]
    },
    {
      "cell_type": "code",
      "execution_count": 21,
      "metadata": {
        "id": "nUJWBGRCdwzw"
      },
      "outputs": [
        {
          "name": "stdout",
          "output_type": "stream",
          "text": [
            "ReLU Accuracy :  0.9609243697478992\n"
          ]
        }
      ],
      "source": [
        "score1 = clf1.score(X_test,Y_test)\n",
        "print(\"ReLU Accuracy : \", score1)"
      ]
    },
    {
      "cell_type": "code",
      "execution_count": 22,
      "metadata": {
        "id": "thZkxqI8dwzx"
      },
      "outputs": [
        {
          "name": "stderr",
          "output_type": "stream",
          "text": [
            "/home/aayush/ml/.env/lib/python3.8/site-packages/sklearn/neural_network/_multilayer_perceptron.py:559: ConvergenceWarning: lbfgs failed to converge (status=1):\n",
            "STOP: TOTAL NO. of ITERATIONS REACHED LIMIT.\n",
            "\n",
            "Increase the number of iterations (max_iter) or scale the data as shown in:\n",
            "    https://scikit-learn.org/stable/modules/preprocessing.html\n",
            "  self.n_iter_ = _check_optimize_result(\"lbfgs\", opt_res, self.max_iter)\n"
          ]
        },
        {
          "data": {
            "text/html": [
              "<style>#sk-container-id-2 {color: black;background-color: white;}#sk-container-id-2 pre{padding: 0;}#sk-container-id-2 div.sk-toggleable {background-color: white;}#sk-container-id-2 label.sk-toggleable__label {cursor: pointer;display: block;width: 100%;margin-bottom: 0;padding: 0.3em;box-sizing: border-box;text-align: center;}#sk-container-id-2 label.sk-toggleable__label-arrow:before {content: \"▸\";float: left;margin-right: 0.25em;color: #696969;}#sk-container-id-2 label.sk-toggleable__label-arrow:hover:before {color: black;}#sk-container-id-2 div.sk-estimator:hover label.sk-toggleable__label-arrow:before {color: black;}#sk-container-id-2 div.sk-toggleable__content {max-height: 0;max-width: 0;overflow: hidden;text-align: left;background-color: #f0f8ff;}#sk-container-id-2 div.sk-toggleable__content pre {margin: 0.2em;color: black;border-radius: 0.25em;background-color: #f0f8ff;}#sk-container-id-2 input.sk-toggleable__control:checked~div.sk-toggleable__content {max-height: 200px;max-width: 100%;overflow: auto;}#sk-container-id-2 input.sk-toggleable__control:checked~label.sk-toggleable__label-arrow:before {content: \"▾\";}#sk-container-id-2 div.sk-estimator input.sk-toggleable__control:checked~label.sk-toggleable__label {background-color: #d4ebff;}#sk-container-id-2 div.sk-label input.sk-toggleable__control:checked~label.sk-toggleable__label {background-color: #d4ebff;}#sk-container-id-2 input.sk-hidden--visually {border: 0;clip: rect(1px 1px 1px 1px);clip: rect(1px, 1px, 1px, 1px);height: 1px;margin: -1px;overflow: hidden;padding: 0;position: absolute;width: 1px;}#sk-container-id-2 div.sk-estimator {font-family: monospace;background-color: #f0f8ff;border: 1px dotted black;border-radius: 0.25em;box-sizing: border-box;margin-bottom: 0.5em;}#sk-container-id-2 div.sk-estimator:hover {background-color: #d4ebff;}#sk-container-id-2 div.sk-parallel-item::after {content: \"\";width: 100%;border-bottom: 1px solid gray;flex-grow: 1;}#sk-container-id-2 div.sk-label:hover label.sk-toggleable__label {background-color: #d4ebff;}#sk-container-id-2 div.sk-serial::before {content: \"\";position: absolute;border-left: 1px solid gray;box-sizing: border-box;top: 0;bottom: 0;left: 50%;z-index: 0;}#sk-container-id-2 div.sk-serial {display: flex;flex-direction: column;align-items: center;background-color: white;padding-right: 0.2em;padding-left: 0.2em;position: relative;}#sk-container-id-2 div.sk-item {position: relative;z-index: 1;}#sk-container-id-2 div.sk-parallel {display: flex;align-items: stretch;justify-content: center;background-color: white;position: relative;}#sk-container-id-2 div.sk-item::before, #sk-container-id-2 div.sk-parallel-item::before {content: \"\";position: absolute;border-left: 1px solid gray;box-sizing: border-box;top: 0;bottom: 0;left: 50%;z-index: -1;}#sk-container-id-2 div.sk-parallel-item {display: flex;flex-direction: column;z-index: 1;position: relative;background-color: white;}#sk-container-id-2 div.sk-parallel-item:first-child::after {align-self: flex-end;width: 50%;}#sk-container-id-2 div.sk-parallel-item:last-child::after {align-self: flex-start;width: 50%;}#sk-container-id-2 div.sk-parallel-item:only-child::after {width: 0;}#sk-container-id-2 div.sk-dashed-wrapped {border: 1px dashed gray;margin: 0 0.4em 0.5em 0.4em;box-sizing: border-box;padding-bottom: 0.4em;background-color: white;}#sk-container-id-2 div.sk-label label {font-family: monospace;font-weight: bold;display: inline-block;line-height: 1.2em;}#sk-container-id-2 div.sk-label-container {text-align: center;}#sk-container-id-2 div.sk-container {/* jupyter's `normalize.less` sets `[hidden] { display: none; }` but bootstrap.min.css set `[hidden] { display: none !important; }` so we also need the `!important` here to be able to override the default hidden behavior on the sphinx rendered scikit-learn.org. See: https://github.com/scikit-learn/scikit-learn/issues/21755 */display: inline-block !important;position: relative;}#sk-container-id-2 div.sk-text-repr-fallback {display: none;}</style><div id=\"sk-container-id-2\" class=\"sk-top-container\"><div class=\"sk-text-repr-fallback\"><pre>MLPClassifier(activation=&#x27;logistic&#x27;, alpha=0.08, batch_size=200,\n",
              "              hidden_layer_sizes=(256, 128, 64, 32), max_iter=150,\n",
              "              random_state=1, solver=&#x27;lbfgs&#x27;)</pre><b>In a Jupyter environment, please rerun this cell to show the HTML representation or trust the notebook. <br />On GitHub, the HTML representation is unable to render, please try loading this page with nbviewer.org.</b></div><div class=\"sk-container\" hidden><div class=\"sk-item\"><div class=\"sk-estimator sk-toggleable\"><input class=\"sk-toggleable__control sk-hidden--visually\" id=\"sk-estimator-id-2\" type=\"checkbox\" checked><label for=\"sk-estimator-id-2\" class=\"sk-toggleable__label sk-toggleable__label-arrow\">MLPClassifier</label><div class=\"sk-toggleable__content\"><pre>MLPClassifier(activation=&#x27;logistic&#x27;, alpha=0.08, batch_size=200,\n",
              "              hidden_layer_sizes=(256, 128, 64, 32), max_iter=150,\n",
              "              random_state=1, solver=&#x27;lbfgs&#x27;)</pre></div></div></div></div></div>"
            ],
            "text/plain": [
              "MLPClassifier(activation='logistic', alpha=0.08, batch_size=200,\n",
              "              hidden_layer_sizes=(256, 128, 64, 32), max_iter=150,\n",
              "              random_state=1, solver='lbfgs')"
            ]
          },
          "execution_count": 22,
          "metadata": {},
          "output_type": "execute_result"
        }
      ],
      "source": [
        "clf2 = MLPClassifier(solver='lbfgs', alpha=0.08, hidden_layer_sizes=(256,128,64,32), random_state=1, activation = 'logistic', max_iter=150, batch_size=200)\n",
        "clf2.fit(X_train, Y_train.ravel())"
      ]
    },
    {
      "cell_type": "code",
      "execution_count": 23,
      "metadata": {
        "id": "MNOzmngXdwzy"
      },
      "outputs": [
        {
          "name": "stdout",
          "output_type": "stream",
          "text": [
            "sigmoid Accuracy :  0.9288515406162465\n"
          ]
        }
      ],
      "source": [
        "score2 = clf2.score(X_test,Y_test)\n",
        "print(\"sigmoid Accuracy : \", score2)"
      ]
    },
    {
      "cell_type": "code",
      "execution_count": 24,
      "metadata": {
        "id": "iJKT1gHBdwzz"
      },
      "outputs": [
        {
          "name": "stderr",
          "output_type": "stream",
          "text": [
            "/home/aayush/ml/.env/lib/python3.8/site-packages/sklearn/neural_network/_multilayer_perceptron.py:559: ConvergenceWarning: lbfgs failed to converge (status=1):\n",
            "STOP: TOTAL NO. of ITERATIONS REACHED LIMIT.\n",
            "\n",
            "Increase the number of iterations (max_iter) or scale the data as shown in:\n",
            "    https://scikit-learn.org/stable/modules/preprocessing.html\n",
            "  self.n_iter_ = _check_optimize_result(\"lbfgs\", opt_res, self.max_iter)\n"
          ]
        },
        {
          "data": {
            "text/html": [
              "<style>#sk-container-id-3 {color: black;background-color: white;}#sk-container-id-3 pre{padding: 0;}#sk-container-id-3 div.sk-toggleable {background-color: white;}#sk-container-id-3 label.sk-toggleable__label {cursor: pointer;display: block;width: 100%;margin-bottom: 0;padding: 0.3em;box-sizing: border-box;text-align: center;}#sk-container-id-3 label.sk-toggleable__label-arrow:before {content: \"▸\";float: left;margin-right: 0.25em;color: #696969;}#sk-container-id-3 label.sk-toggleable__label-arrow:hover:before {color: black;}#sk-container-id-3 div.sk-estimator:hover label.sk-toggleable__label-arrow:before {color: black;}#sk-container-id-3 div.sk-toggleable__content {max-height: 0;max-width: 0;overflow: hidden;text-align: left;background-color: #f0f8ff;}#sk-container-id-3 div.sk-toggleable__content pre {margin: 0.2em;color: black;border-radius: 0.25em;background-color: #f0f8ff;}#sk-container-id-3 input.sk-toggleable__control:checked~div.sk-toggleable__content {max-height: 200px;max-width: 100%;overflow: auto;}#sk-container-id-3 input.sk-toggleable__control:checked~label.sk-toggleable__label-arrow:before {content: \"▾\";}#sk-container-id-3 div.sk-estimator input.sk-toggleable__control:checked~label.sk-toggleable__label {background-color: #d4ebff;}#sk-container-id-3 div.sk-label input.sk-toggleable__control:checked~label.sk-toggleable__label {background-color: #d4ebff;}#sk-container-id-3 input.sk-hidden--visually {border: 0;clip: rect(1px 1px 1px 1px);clip: rect(1px, 1px, 1px, 1px);height: 1px;margin: -1px;overflow: hidden;padding: 0;position: absolute;width: 1px;}#sk-container-id-3 div.sk-estimator {font-family: monospace;background-color: #f0f8ff;border: 1px dotted black;border-radius: 0.25em;box-sizing: border-box;margin-bottom: 0.5em;}#sk-container-id-3 div.sk-estimator:hover {background-color: #d4ebff;}#sk-container-id-3 div.sk-parallel-item::after {content: \"\";width: 100%;border-bottom: 1px solid gray;flex-grow: 1;}#sk-container-id-3 div.sk-label:hover label.sk-toggleable__label {background-color: #d4ebff;}#sk-container-id-3 div.sk-serial::before {content: \"\";position: absolute;border-left: 1px solid gray;box-sizing: border-box;top: 0;bottom: 0;left: 50%;z-index: 0;}#sk-container-id-3 div.sk-serial {display: flex;flex-direction: column;align-items: center;background-color: white;padding-right: 0.2em;padding-left: 0.2em;position: relative;}#sk-container-id-3 div.sk-item {position: relative;z-index: 1;}#sk-container-id-3 div.sk-parallel {display: flex;align-items: stretch;justify-content: center;background-color: white;position: relative;}#sk-container-id-3 div.sk-item::before, #sk-container-id-3 div.sk-parallel-item::before {content: \"\";position: absolute;border-left: 1px solid gray;box-sizing: border-box;top: 0;bottom: 0;left: 50%;z-index: -1;}#sk-container-id-3 div.sk-parallel-item {display: flex;flex-direction: column;z-index: 1;position: relative;background-color: white;}#sk-container-id-3 div.sk-parallel-item:first-child::after {align-self: flex-end;width: 50%;}#sk-container-id-3 div.sk-parallel-item:last-child::after {align-self: flex-start;width: 50%;}#sk-container-id-3 div.sk-parallel-item:only-child::after {width: 0;}#sk-container-id-3 div.sk-dashed-wrapped {border: 1px dashed gray;margin: 0 0.4em 0.5em 0.4em;box-sizing: border-box;padding-bottom: 0.4em;background-color: white;}#sk-container-id-3 div.sk-label label {font-family: monospace;font-weight: bold;display: inline-block;line-height: 1.2em;}#sk-container-id-3 div.sk-label-container {text-align: center;}#sk-container-id-3 div.sk-container {/* jupyter's `normalize.less` sets `[hidden] { display: none; }` but bootstrap.min.css set `[hidden] { display: none !important; }` so we also need the `!important` here to be able to override the default hidden behavior on the sphinx rendered scikit-learn.org. See: https://github.com/scikit-learn/scikit-learn/issues/21755 */display: inline-block !important;position: relative;}#sk-container-id-3 div.sk-text-repr-fallback {display: none;}</style><div id=\"sk-container-id-3\" class=\"sk-top-container\"><div class=\"sk-text-repr-fallback\"><pre>MLPClassifier(activation=&#x27;tanh&#x27;, alpha=0.08, batch_size=200,\n",
              "              hidden_layer_sizes=(256, 128, 64, 32), max_iter=150,\n",
              "              random_state=1, solver=&#x27;lbfgs&#x27;)</pre><b>In a Jupyter environment, please rerun this cell to show the HTML representation or trust the notebook. <br />On GitHub, the HTML representation is unable to render, please try loading this page with nbviewer.org.</b></div><div class=\"sk-container\" hidden><div class=\"sk-item\"><div class=\"sk-estimator sk-toggleable\"><input class=\"sk-toggleable__control sk-hidden--visually\" id=\"sk-estimator-id-3\" type=\"checkbox\" checked><label for=\"sk-estimator-id-3\" class=\"sk-toggleable__label sk-toggleable__label-arrow\">MLPClassifier</label><div class=\"sk-toggleable__content\"><pre>MLPClassifier(activation=&#x27;tanh&#x27;, alpha=0.08, batch_size=200,\n",
              "              hidden_layer_sizes=(256, 128, 64, 32), max_iter=150,\n",
              "              random_state=1, solver=&#x27;lbfgs&#x27;)</pre></div></div></div></div></div>"
            ],
            "text/plain": [
              "MLPClassifier(activation='tanh', alpha=0.08, batch_size=200,\n",
              "              hidden_layer_sizes=(256, 128, 64, 32), max_iter=150,\n",
              "              random_state=1, solver='lbfgs')"
            ]
          },
          "execution_count": 24,
          "metadata": {},
          "output_type": "execute_result"
        }
      ],
      "source": [
        "clf3 = MLPClassifier(solver='lbfgs', alpha=0.08, hidden_layer_sizes=(256,128,64,32), random_state=1, activation = 'tanh', max_iter=150, batch_size=200)\n",
        "clf3.fit(X_train, Y_train.ravel())"
      ]
    },
    {
      "cell_type": "code",
      "execution_count": 25,
      "metadata": {
        "id": "K6Ur4vQadwzz"
      },
      "outputs": [
        {
          "name": "stdout",
          "output_type": "stream",
          "text": [
            "Tanh Accuracy :  0.9557422969187676\n"
          ]
        }
      ],
      "source": [
        "score3 = clf3.score(X_test,Y_test)\n",
        "print(\"Tanh Accuracy : \", score3)"
      ]
    },
    {
      "cell_type": "code",
      "execution_count": 26,
      "metadata": {
        "id": "oeagzdJxdwz1"
      },
      "outputs": [
        {
          "name": "stderr",
          "output_type": "stream",
          "text": [
            "/home/aayush/ml/.env/lib/python3.8/site-packages/sklearn/neural_network/_multilayer_perceptron.py:559: ConvergenceWarning: lbfgs failed to converge (status=1):\n",
            "STOP: TOTAL NO. of ITERATIONS REACHED LIMIT.\n",
            "\n",
            "Increase the number of iterations (max_iter) or scale the data as shown in:\n",
            "    https://scikit-learn.org/stable/modules/preprocessing.html\n",
            "  self.n_iter_ = _check_optimize_result(\"lbfgs\", opt_res, self.max_iter)\n"
          ]
        },
        {
          "data": {
            "text/html": [
              "<style>#sk-container-id-4 {color: black;background-color: white;}#sk-container-id-4 pre{padding: 0;}#sk-container-id-4 div.sk-toggleable {background-color: white;}#sk-container-id-4 label.sk-toggleable__label {cursor: pointer;display: block;width: 100%;margin-bottom: 0;padding: 0.3em;box-sizing: border-box;text-align: center;}#sk-container-id-4 label.sk-toggleable__label-arrow:before {content: \"▸\";float: left;margin-right: 0.25em;color: #696969;}#sk-container-id-4 label.sk-toggleable__label-arrow:hover:before {color: black;}#sk-container-id-4 div.sk-estimator:hover label.sk-toggleable__label-arrow:before {color: black;}#sk-container-id-4 div.sk-toggleable__content {max-height: 0;max-width: 0;overflow: hidden;text-align: left;background-color: #f0f8ff;}#sk-container-id-4 div.sk-toggleable__content pre {margin: 0.2em;color: black;border-radius: 0.25em;background-color: #f0f8ff;}#sk-container-id-4 input.sk-toggleable__control:checked~div.sk-toggleable__content {max-height: 200px;max-width: 100%;overflow: auto;}#sk-container-id-4 input.sk-toggleable__control:checked~label.sk-toggleable__label-arrow:before {content: \"▾\";}#sk-container-id-4 div.sk-estimator input.sk-toggleable__control:checked~label.sk-toggleable__label {background-color: #d4ebff;}#sk-container-id-4 div.sk-label input.sk-toggleable__control:checked~label.sk-toggleable__label {background-color: #d4ebff;}#sk-container-id-4 input.sk-hidden--visually {border: 0;clip: rect(1px 1px 1px 1px);clip: rect(1px, 1px, 1px, 1px);height: 1px;margin: -1px;overflow: hidden;padding: 0;position: absolute;width: 1px;}#sk-container-id-4 div.sk-estimator {font-family: monospace;background-color: #f0f8ff;border: 1px dotted black;border-radius: 0.25em;box-sizing: border-box;margin-bottom: 0.5em;}#sk-container-id-4 div.sk-estimator:hover {background-color: #d4ebff;}#sk-container-id-4 div.sk-parallel-item::after {content: \"\";width: 100%;border-bottom: 1px solid gray;flex-grow: 1;}#sk-container-id-4 div.sk-label:hover label.sk-toggleable__label {background-color: #d4ebff;}#sk-container-id-4 div.sk-serial::before {content: \"\";position: absolute;border-left: 1px solid gray;box-sizing: border-box;top: 0;bottom: 0;left: 50%;z-index: 0;}#sk-container-id-4 div.sk-serial {display: flex;flex-direction: column;align-items: center;background-color: white;padding-right: 0.2em;padding-left: 0.2em;position: relative;}#sk-container-id-4 div.sk-item {position: relative;z-index: 1;}#sk-container-id-4 div.sk-parallel {display: flex;align-items: stretch;justify-content: center;background-color: white;position: relative;}#sk-container-id-4 div.sk-item::before, #sk-container-id-4 div.sk-parallel-item::before {content: \"\";position: absolute;border-left: 1px solid gray;box-sizing: border-box;top: 0;bottom: 0;left: 50%;z-index: -1;}#sk-container-id-4 div.sk-parallel-item {display: flex;flex-direction: column;z-index: 1;position: relative;background-color: white;}#sk-container-id-4 div.sk-parallel-item:first-child::after {align-self: flex-end;width: 50%;}#sk-container-id-4 div.sk-parallel-item:last-child::after {align-self: flex-start;width: 50%;}#sk-container-id-4 div.sk-parallel-item:only-child::after {width: 0;}#sk-container-id-4 div.sk-dashed-wrapped {border: 1px dashed gray;margin: 0 0.4em 0.5em 0.4em;box-sizing: border-box;padding-bottom: 0.4em;background-color: white;}#sk-container-id-4 div.sk-label label {font-family: monospace;font-weight: bold;display: inline-block;line-height: 1.2em;}#sk-container-id-4 div.sk-label-container {text-align: center;}#sk-container-id-4 div.sk-container {/* jupyter's `normalize.less` sets `[hidden] { display: none; }` but bootstrap.min.css set `[hidden] { display: none !important; }` so we also need the `!important` here to be able to override the default hidden behavior on the sphinx rendered scikit-learn.org. See: https://github.com/scikit-learn/scikit-learn/issues/21755 */display: inline-block !important;position: relative;}#sk-container-id-4 div.sk-text-repr-fallback {display: none;}</style><div id=\"sk-container-id-4\" class=\"sk-top-container\"><div class=\"sk-text-repr-fallback\"><pre>MLPClassifier(activation=&#x27;identity&#x27;, alpha=0.08, batch_size=200,\n",
              "              hidden_layer_sizes=(256, 128, 64, 32), random_state=1,\n",
              "              solver=&#x27;lbfgs&#x27;)</pre><b>In a Jupyter environment, please rerun this cell to show the HTML representation or trust the notebook. <br />On GitHub, the HTML representation is unable to render, please try loading this page with nbviewer.org.</b></div><div class=\"sk-container\" hidden><div class=\"sk-item\"><div class=\"sk-estimator sk-toggleable\"><input class=\"sk-toggleable__control sk-hidden--visually\" id=\"sk-estimator-id-4\" type=\"checkbox\" checked><label for=\"sk-estimator-id-4\" class=\"sk-toggleable__label sk-toggleable__label-arrow\">MLPClassifier</label><div class=\"sk-toggleable__content\"><pre>MLPClassifier(activation=&#x27;identity&#x27;, alpha=0.08, batch_size=200,\n",
              "              hidden_layer_sizes=(256, 128, 64, 32), random_state=1,\n",
              "              solver=&#x27;lbfgs&#x27;)</pre></div></div></div></div></div>"
            ],
            "text/plain": [
              "MLPClassifier(activation='identity', alpha=0.08, batch_size=200,\n",
              "              hidden_layer_sizes=(256, 128, 64, 32), random_state=1,\n",
              "              solver='lbfgs')"
            ]
          },
          "execution_count": 26,
          "metadata": {},
          "output_type": "execute_result"
        }
      ],
      "source": [
        "clf4 = MLPClassifier(solver='lbfgs', alpha=0.08, hidden_layer_sizes=(256,128,64,32), random_state=1, activation = 'identity', batch_size=200)\n",
        "clf4.fit(X_train, Y_train.ravel())"
      ]
    },
    {
      "cell_type": "code",
      "execution_count": 27,
      "metadata": {
        "id": "2qvayZ8Xdwz4"
      },
      "outputs": [
        {
          "name": "stdout",
          "output_type": "stream",
          "text": [
            "Linear Accuracy :  0.9161064425770308\n"
          ]
        }
      ],
      "source": [
        "score4 = clf4.score(X_test,Y_test)\n",
        "print(\"Linear Accuracy : \", score4)"
      ]
    },
    {
      "cell_type": "code",
      "execution_count": null,
      "metadata": {
        "id": "o0UyAQkadwz5"
      },
      "outputs": [],
      "source": []
    }
  ],
  "metadata": {
    "colab": {
      "provenance": []
    },
    "kernelspec": {
      "display_name": "Python 3.6.9 ('.env': venv)",
      "language": "python",
      "name": "python3"
    },
    "language_info": {
      "codemirror_mode": {
        "name": "ipython",
        "version": 3
      },
      "file_extension": ".py",
      "mimetype": "text/x-python",
      "name": "python",
      "nbconvert_exporter": "python",
      "pygments_lexer": "ipython3",
      "version": "3.8.0"
    },
    "orig_nbformat": 4,
    "vscode": {
      "interpreter": {
        "hash": "d9668fcc41e1ce838214f10c723fd65249829dd257fba636b92eab1c9c805b2c"
      }
    }
  },
  "nbformat": 4,
  "nbformat_minor": 0
}
